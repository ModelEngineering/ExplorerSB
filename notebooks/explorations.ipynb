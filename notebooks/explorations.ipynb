{
 "cells": [
  {
   "cell_type": "markdown",
   "id": "5ea85e65-da35-49e9-903c-40ceff655f3a",
   "metadata": {},
   "source": [
    "# EXPLORATIONS"
   ]
  },
  {
   "cell_type": "code",
   "execution_count": 117,
   "id": "d8d8b6c7-41fa-4aed-9179-9669f6415faf",
   "metadata": {
    "tags": []
   },
   "outputs": [],
   "source": [
    "import requests\n",
    "import urllib3\n",
    "import h5py\n",
    "from src.ExplorerSB.project import Project\n",
    "import src.ExplorerSB.constants as cn\n",
    "import pandas as pd\n",
    "import typing"
   ]
  },
  {
   "cell_type": "markdown",
   "id": "a959e05d-58ea-465b-a7d6-b9f07d9a95b2",
   "metadata": {},
   "source": [
    "# Reading a file from a URL"
   ]
  },
  {
   "cell_type": "code",
   "execution_count": 7,
   "id": "44da758a-9979-4d01-8761-4252c8f7f4a5",
   "metadata": {
    "tags": []
   },
   "outputs": [
    {
     "data": {
      "text/plain": [
       "6273418"
      ]
     },
     "execution_count": 7,
     "metadata": {},
     "output_type": "execute_result"
    }
   ],
   "source": [
    "# This code retrieves a file\n",
    "url = 'https://storage.googleapis.com/files.biosimulations.org/simulations/621d90b9b50991044c7a1ea6/contents/iYS854.xml'\n",
    "r = requests.get(url, allow_redirects=True)\n",
    "open('iYS854.xml', 'wb').write(r.content)"
   ]
  },
  {
   "cell_type": "code",
   "execution_count": 9,
   "id": "ab90b776-5b55-44c9-89a2-44e049184051",
   "metadata": {
    "tags": []
   },
   "outputs": [
    {
     "data": {
      "text/plain": [
       "Url(scheme='https', auth=None, host='storage.googleapis.com', port=None, path='/files.biosimulations.org/simulations/621d90b9b50991044c7a1ea6/contents/iYS854.xml', query=None, fragment=None)"
      ]
     },
     "execution_count": 9,
     "metadata": {},
     "output_type": "execute_result"
    }
   ],
   "source": [
    "urllib3.util.parse_url(url)"
   ]
  },
  {
   "cell_type": "code",
   "execution_count": 13,
   "id": "d1ce160b-f3c3-4355-b899-61371e50a425",
   "metadata": {
    "tags": []
   },
   "outputs": [
    {
     "data": {
      "text/plain": [
       "'iYS854.xml'"
      ]
     },
     "execution_count": 13,
     "metadata": {},
     "output_type": "execute_result"
    }
   ],
   "source": [
    "def getUrlFile(file_url):\n",
    "    splits = file_url.split(\"/\")\n",
    "    return splits[-1]\n",
    "\n",
    "getUrlFile(url)"
   ]
  },
  {
   "cell_type": "markdown",
   "id": "d6e24714-0888-4c00-b434-53b17cfe63fb",
   "metadata": {},
   "source": [
    "# HDF5 files"
   ]
  },
  {
   "cell_type": "code",
   "execution_count": 7,
   "id": "26ca9bde-2940-4024-a8b1-6fced66c4d5e",
   "metadata": {
    "tags": []
   },
   "outputs": [
    {
     "name": "stdout",
     "output_type": "stream",
     "text": [
      "log.yml    reports.h5\n"
     ]
    }
   ],
   "source": [
    "!ls ../local/cache/61fea483f499ccf25faafc4d/outputs"
   ]
  },
  {
   "cell_type": "code",
   "execution_count": 8,
   "id": "fc33a07c-5f17-48eb-95ad-d9290e0cf12b",
   "metadata": {
    "tags": []
   },
   "outputs": [],
   "source": [
    "path = \"../local/cache/61fea483f499ccf25faafc4d/outputs/reports.h5\"\n",
    "fd5 = h5py.File(path, 'r')"
   ]
  },
  {
   "cell_type": "code",
   "execution_count": 9,
   "id": "c97c96d4-c200-45bf-86a0-c8ba075c556c",
   "metadata": {
    "tags": []
   },
   "outputs": [
    {
     "data": {
      "text/plain": [
       "['_MutableMapping__marker',\n",
       " '__abstractmethods__',\n",
       " '__bool__',\n",
       " '__class__',\n",
       " '__class_getitem__',\n",
       " '__contains__',\n",
       " '__delattr__',\n",
       " '__delitem__',\n",
       " '__dict__',\n",
       " '__dir__',\n",
       " '__doc__',\n",
       " '__enter__',\n",
       " '__eq__',\n",
       " '__exit__',\n",
       " '__format__',\n",
       " '__ge__',\n",
       " '__getattribute__',\n",
       " '__getitem__',\n",
       " '__getnewargs__',\n",
       " '__getstate__',\n",
       " '__gt__',\n",
       " '__hash__',\n",
       " '__init__',\n",
       " '__init_subclass__',\n",
       " '__iter__',\n",
       " '__le__',\n",
       " '__len__',\n",
       " '__lt__',\n",
       " '__module__',\n",
       " '__ne__',\n",
       " '__new__',\n",
       " '__nonzero__',\n",
       " '__reduce__',\n",
       " '__reduce_ex__',\n",
       " '__repr__',\n",
       " '__reversed__',\n",
       " '__setattr__',\n",
       " '__setitem__',\n",
       " '__sizeof__',\n",
       " '__slots__',\n",
       " '__str__',\n",
       " '__subclasshook__',\n",
       " '__weakref__',\n",
       " '_abc_impl',\n",
       " '_d',\n",
       " '_e',\n",
       " '_gcpl_crt_order',\n",
       " '_id',\n",
       " '_ipython_key_completions_',\n",
       " '_lapl',\n",
       " '_lcpl',\n",
       " '_libver',\n",
       " 'attrs',\n",
       " 'build_virtual_dataset',\n",
       " 'clear',\n",
       " 'close',\n",
       " 'copy',\n",
       " 'create_dataset',\n",
       " 'create_dataset_like',\n",
       " 'create_group',\n",
       " 'create_virtual_dataset',\n",
       " 'driver',\n",
       " 'file',\n",
       " 'filename',\n",
       " 'flush',\n",
       " 'get',\n",
       " 'id',\n",
       " 'items',\n",
       " 'keys',\n",
       " 'libver',\n",
       " 'meta_block_size',\n",
       " 'mode',\n",
       " 'move',\n",
       " 'name',\n",
       " 'parent',\n",
       " 'pop',\n",
       " 'popitem',\n",
       " 'ref',\n",
       " 'regionref',\n",
       " 'require_dataset',\n",
       " 'require_group',\n",
       " 'setdefault',\n",
       " 'swmr_mode',\n",
       " 'update',\n",
       " 'userblock_size',\n",
       " 'values',\n",
       " 'visit',\n",
       " 'visititems']"
      ]
     },
     "execution_count": 9,
     "metadata": {},
     "output_type": "execute_result"
    }
   ],
   "source": [
    "dir(fd5)"
   ]
  },
  {
   "cell_type": "code",
   "execution_count": 11,
   "id": "08878685-54f2-46d5-8177-441e0e9b7d51",
   "metadata": {
    "tags": []
   },
   "outputs": [
    {
     "data": {
      "text/plain": [
       "[('simulation.sedml', <HDF5 group \"/simulation.sedml\" (3 members)>)]"
      ]
     },
     "execution_count": 11,
     "metadata": {},
     "output_type": "execute_result"
    }
   ],
   "source": [
    "[t for t in fd5.items()]"
   ]
  },
  {
   "cell_type": "code",
   "execution_count": 12,
   "id": "933b1c96-7d99-487d-a484-ba2eb39b1007",
   "metadata": {
    "tags": []
   },
   "outputs": [
    {
     "data": {
      "text/plain": [
       "<KeysViewHDF5 ['simulation.sedml']>"
      ]
     },
     "execution_count": 12,
     "metadata": {},
     "output_type": "execute_result"
    }
   ],
   "source": [
    "fd5.keys()"
   ]
  },
  {
   "cell_type": "code",
   "execution_count": 14,
   "id": "dd34650b-9477-4dfc-852d-3839ca234987",
   "metadata": {
    "tags": []
   },
   "outputs": [
    {
     "data": {
      "text/plain": [
       "<KeysViewHDF5 ['report_del_Cln2', 'report_del_Cln3', 'report_wt']>"
      ]
     },
     "execution_count": 14,
     "metadata": {},
     "output_type": "execute_result"
    }
   ],
   "source": [
    "fd5[\"simulation.sedml\"].keys()"
   ]
  },
  {
   "cell_type": "code",
   "execution_count": 23,
   "id": "ec44780a-378a-497d-a77d-cc5b849c1c91",
   "metadata": {
    "tags": []
   },
   "outputs": [
    {
     "data": {
      "text/plain": [
       "(19, 101)"
      ]
     },
     "execution_count": 23,
     "metadata": {},
     "output_type": "execute_result"
    }
   ],
   "source": [
    "dataset = fd5[\"simulation.sedml\"][\"report_wt\"]\n",
    "dataset.shape"
   ]
  },
  {
   "cell_type": "code",
   "execution_count": 24,
   "id": "9ceea0be-2f5b-4556-b135-bac94715bc66",
   "metadata": {
    "tags": []
   },
   "outputs": [
    {
     "data": {
      "text/plain": [
       "array([[  0.,   1.,   2., ...,  98.,  99., 100.],\n",
       "       [  1.,   0.,   1., ...,   1.,   1.,   1.],\n",
       "       [  0.,   0.,   0., ...,   0.,   0.,   0.],\n",
       "       ...,\n",
       "       [  1.,   0.,   0., ...,   1.,   1.,   1.],\n",
       "       [  0.,   0.,   0., ...,   1.,   1.,   1.],\n",
       "       [  1.,   0.,   0., ...,   0.,   0.,   1.]])"
      ]
     },
     "execution_count": 24,
     "metadata": {},
     "output_type": "execute_result"
    }
   ],
   "source": [
    "dataset[:,:]"
   ]
  },
  {
   "cell_type": "code",
   "execution_count": 27,
   "id": "b1d3bd6a-9190-47c1-a60f-05528c141288",
   "metadata": {
    "tags": []
   },
   "outputs": [
    {
     "data": {
      "text/plain": [
       "<KeysViewHDF5 ['_type', 'sedmlDataSetDataTypes', 'sedmlDataSetIds', 'sedmlDataSetLabels', 'sedmlDataSetNames', 'sedmlDataSetShapes', 'sedmlId', 'sedmlName', 'uri']>"
      ]
     },
     "execution_count": 27,
     "metadata": {},
     "output_type": "execute_result"
    }
   ],
   "source": [
    "dataset.attrs.keys()"
   ]
  },
  {
   "cell_type": "code",
   "execution_count": 31,
   "id": "3ff20b4f-7550-4ae6-a638-47e5cd8dd541",
   "metadata": {
    "tags": []
   },
   "outputs": [
    {
     "data": {
      "text/plain": [
       "array(['wt_data_set_time', 'wt_data_set_Cln3', 'wt_data_set_SMBF',\n",
       "       'wt_data_set_Cln2', 'wt_data_set_Clb5', 'wt_data_set_Yhp1',\n",
       "       'wt_data_set_Clb2', 'wt_data_set_SFF', 'wt_data_set_Cdc20',\n",
       "       'wt_data_set_FEAR', 'wt_data_set_MEN', 'wt_data_set_Cdc14',\n",
       "       'wt_data_set_Swi5', 'wt_data_set_CKI', 'wt_data_set_Cdh1',\n",
       "       'wt_data_set_S', 'wt_data_set_B', 'wt_data_set_M',\n",
       "       'wt_data_set_CD'], dtype=object)"
      ]
     },
     "execution_count": 31,
     "metadata": {},
     "output_type": "execute_result"
    }
   ],
   "source": [
    "dataset.attrs['sedmlDataSetIds']"
   ]
  },
  {
   "cell_type": "code",
   "execution_count": 33,
   "id": "5e62a2de-953f-4f95-b45c-f09b82fb7a19",
   "metadata": {
    "tags": []
   },
   "outputs": [],
   "source": [
    "PROJECT_IDs = [\"iYS854\", \"Yeast-cell-cycle-Irons-J-Theor-Biol-2009\"]"
   ]
  },
  {
   "cell_type": "code",
   "execution_count": 37,
   "id": "7e5dae5c-97dc-48ce-b48c-538ded7f3b7e",
   "metadata": {
    "tags": []
   },
   "outputs": [
    {
     "data": {
      "text/plain": [
       "[None, None]"
      ]
     },
     "execution_count": 37,
     "metadata": {},
     "output_type": "execute_result"
    }
   ],
   "source": [
    "projects = [Project(i) for i in PROJECT_IDs]\n",
    "_ = [p.initialize() for p in projects]"
   ]
  },
  {
   "cell_type": "code",
   "execution_count": 43,
   "id": "7284a51a-8a75-49b5-b73e-959c41ce65ce",
   "metadata": {
    "tags": []
   },
   "outputs": [],
   "source": [
    "dct = {cn.PROJECT_ID: [], \"simulation.sedml\": [], \"report1_sedmlDataSetIds\": []}"
   ]
  },
  {
   "cell_type": "code",
   "execution_count": 101,
   "id": "7d29aade-527f-4530-ad01-8d26160ce8ec",
   "metadata": {
    "tags": []
   },
   "outputs": [
    {
     "name": "stdout",
     "output_type": "stream",
     "text": [
      "***No report or plot data set in Escherichia-coli-resource-allocation-Bulovic-Metab-Eng-2019\n",
      "***No report or plot data set in RBC-metabolism-Bordbar-Cell-Syst-2015\n",
      "***No report or plot data set in e_coli_core\n",
      "***No report or plot data set in iAB_RBC_283\n",
      "***No report or plot data set in iAF1260\n",
      "***No report or plot data set in iAF1260b\n",
      "***No report or plot data set in iAF987\n",
      "***No report or plot data set in iAM_Pb448\n",
      "***No report or plot data set in iAM_Pc455\n",
      "***No report or plot data set in iAM_Pf480\n",
      "***No report or plot data set in iAM_Pk459\n",
      "***No report or plot data set in iAM_Pv461\n",
      "***No report or plot data set in iAPECO1_1312\n",
      "***No report or plot data set in iB21_1397\n",
      "***No report or plot data set in iBWG_1329\n",
      "***No report or plot data set in iE2348C_1286\n",
      "***No report or plot data set in iEC042_1314\n",
      "***No report or plot data set in iEC1344_C\n",
      "***No report or plot data set in iEC1349_Crooks\n",
      "***No report or plot data set in iEC1356_Bl21DE3\n",
      "***No report or plot data set in iEC1364_W\n",
      "***No report or plot data set in iEC1368_DH5a\n",
      "***No report or plot data set in iEC1372_W3110\n",
      "***No report or plot data set in iEC55989_1330\n",
      "***No report or plot data set in iECABU_c1320\n",
      "***No report or plot data set in iECBD_1354\n",
      "***No report or plot data set in iECB_1328\n",
      "***No report or plot data set in iECDH10B_1368\n",
      "***No report or plot data set in iECDH1ME8569_1439\n",
      "***No report or plot data set in iECD_1391\n",
      "***No report or plot data set in iECED1_1282\n",
      "***No report or plot data set in iECH74115_1262\n",
      "***No report or plot data set in iECIAI1_1343\n",
      "***No report or plot data set in iECNA114_1301\n",
      "***No report or plot data set in iECO103_1326\n",
      "***No report or plot data set in iECO111_1330\n",
      "***No report or plot data set in iECOK1_1307\n",
      "***No report or plot data set in iECP_1309\n",
      "***No report or plot data set in iECS88_1305\n",
      "***No report or plot data set in iECSE_1348\n",
      "***No report or plot data set in iECSF_1327\n",
      "***No report or plot data set in iECSP_1301\n",
      "***No report or plot data set in iECUMN_1333\n",
      "***No report or plot data set in iECW_1372\n",
      "***No report or plot data set in iECs_1301\n",
      "***No report or plot data set in iEK1008\n",
      "***No report or plot data set in iETEC_1333\n",
      "***No report or plot data set in iEcDH1_1363\n",
      "***No report or plot data set in iEcHS_1320\n",
      "***No report or plot data set in iEcSMS35_1347\n",
      "***No report or plot data set in iEcolC_1368\n",
      "***No report or plot data set in iG2583_1286\n",
      "***No report or plot data set in iHN637\n",
      "***No report or plot data set in iJN746\n",
      "***No report or plot data set in iJO1366\n",
      "***No report or plot data set in iJR904\n",
      "***No report or plot data set in iLF82_1304\n",
      "***No report or plot data set in iLJ478\n",
      "***No report or plot data set in iML1515\n",
      "***No report or plot data set in iMM904\n",
      "***No report or plot data set in iND750\n",
      "***No report or plot data set in iNF517\n",
      "***No report or plot data set in iNJ661\n",
      "***No report or plot data set in iNRG857_1313\n",
      "***No report or plot data set in iPC815\n",
      "***No report or plot data set in iSB619\n",
      "***No report or plot data set in iSBO_1134\n",
      "***No report or plot data set in iSDY_1059\n",
      "***No report or plot data set in iSFV_1184\n",
      "***No report or plot data set in iSF_1195\n",
      "***No report or plot data set in iSFxv_1172\n",
      "***No report or plot data set in iSSON_1240\n",
      "***No report or plot data set in iS_1188\n",
      "***No report or plot data set in iSbBS512_1146\n",
      "***No report or plot data set in iUMN146_1321\n",
      "***No report or plot data set in iUMNK88_1353\n",
      "***No report or plot data set in iUTI89_1310\n",
      "***No report or plot data set in iWFL_1372\n",
      "***No report or plot data set in iY75_1357\n",
      "***No report or plot data set in iYL1228\n",
      "***No report or plot data set in iYO844\n",
      "***No report or plot data set in iZ_1308\n",
      "***No report or plot data set in ic_1306\n",
      "***No report or plot data set in STM_v1_0\n",
      "***No report or plot data set in iCHOv1_DG44\n",
      "***No report or plot data set in iECIAI39_1322\n",
      "***No report or plot data set in iECO26_1355\n",
      "***No report or plot data set in iEcE24377_1341\n",
      "***No report or plot data set in iIT341\n",
      "***No report or plot data set in iJN678\n",
      "***No report or plot data set in iYS854\n",
      "***No *.sedml in modeldb-206364\n",
      "***No *.sedml in modeldb-247694\n",
      "***No *.sedml in modeldb-240364\n",
      "***No *.sedml in modeldb-152028\n",
      "***No *.sedml in modeldb-264591\n",
      "***No *.sedml in modeldb-259786\n",
      "***No *.sedml in modeldb-206365\n",
      "***No *.sedml in modeldb-228337\n",
      "***No *.sedml in An-encoding-of-the-human-ORd-model-by-Steve-Neiderer\n",
      "***No *.sedml in Model-of-Excitation-Contraction-in-a-uterine-SMC\n",
      "***No *.sedml in Model-of-Human-Jejunal-Smooth-Muscle-Cell-Electrophysiology\n",
      "***No *.sedml in Noble-1962-model-for-Physiome-article\n",
      "***No *.sedml in SED-ML-simulation-for-Di-Francesco-and-Noble-_1985_-\n",
      "***No *.sedml in Sine-approximations-in-CellML\n",
      "***No *.sedml in The-ORd-human-ventricular-action-potential-model\n"
     ]
    },
    {
     "data": {
      "text/plain": [
       "(421, 15)"
      ]
     },
     "execution_count": 101,
     "metadata": {},
     "output_type": "execute_result"
    }
   ],
   "source": [
    "# Check that the files all have the same structure\n",
    "def run():\n",
    "    num_good = 0\n",
    "    num_bad = 0\n",
    "    generator = Project.iterateProjects()\n",
    "    for project in generator:\n",
    "        hd5_path = project.getH5FilePath()\n",
    "        fd5 = h5py.File(hd5_path, 'r')\n",
    "        # Find a sedml key\n",
    "        for key in fd5.keys():\n",
    "            selected_key = None\n",
    "            if \".sedml\" in key:\n",
    "                selected_key = key\n",
    "                break\n",
    "        if selected_key is None:\n",
    "            print(\"***No *.sedml in %s\" % project.project_id)\n",
    "            num_bad += 1\n",
    "        else:\n",
    "            datasets = list(fd5[selected_key].values())\n",
    "            selected_dataset = None\n",
    "            for dataset in datasets:\n",
    "                if (\"report\" in dataset.name) or (\"plot\" in dataset.name):\n",
    "                    selected_dataset = dataset\n",
    "            if selected_dataset is None:\n",
    "                print (\"***No report or plot data set in %s\" % (project.project_id))\n",
    "                continue\n",
    "            if not \"sedmlDataSetIds\" in selected_dataset.attrs.keys():\n",
    "                print (\"***No sedmlDataSetIds for %s/%s\" % (project.project_id, selected_dataset.name))\n",
    "                num_bad += 1\n",
    "            else:\n",
    "                #print(dataset.shape, len(dataset.attrs[\"sedmlDataSetIds\"]))\n",
    "                #print(dataset[:,:])\n",
    "                num_good += 1\n",
    "    return num_good, num_bad\n",
    "                \n",
    "#\n",
    "run()"
   ]
  },
  {
   "cell_type": "code",
   "execution_count": 134,
   "id": "6ec9ea8c-13f4-4987-b0fc-9f524aefe661",
   "metadata": {
    "tags": []
   },
   "outputs": [
    {
     "name": "stdout",
     "output_type": "stream",
     "text": [
      "> \u001b[0;32m/var/folders/02/lb248q1j50dch2pthzkvxmpr0000gn/T/ipykernel_96163/311445158.py\u001b[0m(42)\u001b[0;36mfindDataframes\u001b[0;34m()\u001b[0m\n",
      "\u001b[0;32m     40 \u001b[0;31m                \u001b[0mnew_names\u001b[0m\u001b[0;34m.\u001b[0m\u001b[0mappend\u001b[0m\u001b[0;34m(\u001b[0m\u001b[0mkey\u001b[0m\u001b[0;34m)\u001b[0m\u001b[0;34m\u001b[0m\u001b[0;34m\u001b[0m\u001b[0m\n",
      "\u001b[0m\u001b[0;32m     41 \u001b[0;31m                \u001b[0;32mimport\u001b[0m \u001b[0mpdb\u001b[0m\u001b[0;34m;\u001b[0m \u001b[0mpdb\u001b[0m\u001b[0;34m.\u001b[0m\u001b[0mset_trace\u001b[0m\u001b[0;34m(\u001b[0m\u001b[0;34m)\u001b[0m\u001b[0;34m\u001b[0m\u001b[0;34m\u001b[0m\u001b[0m\n",
      "\u001b[0m\u001b[0;32m---> 42 \u001b[0;31m                \u001b[0;32mreturn\u001b[0m \u001b[0mfindDataframes\u001b[0m\u001b[0;34m(\u001b[0m\u001b[0mitem\u001b[0m\u001b[0;34m[\u001b[0m\u001b[0mkey\u001b[0m\u001b[0;34m]\u001b[0m\u001b[0;34m,\u001b[0m \u001b[0mnew_names\u001b[0m\u001b[0;34m,\u001b[0m \u001b[0mdfs\u001b[0m\u001b[0;34m)\u001b[0m\u001b[0;34m\u001b[0m\u001b[0;34m\u001b[0m\u001b[0m\n",
      "\u001b[0m\u001b[0;32m     43 \u001b[0;31m    \u001b[0;31m#\u001b[0m\u001b[0;34m\u001b[0m\u001b[0;34m\u001b[0m\u001b[0;34m\u001b[0m\u001b[0m\n",
      "\u001b[0m\u001b[0;32m     44 \u001b[0;31m    \u001b[0;32mwith\u001b[0m \u001b[0mh5py\u001b[0m\u001b[0;34m.\u001b[0m\u001b[0mFile\u001b[0m\u001b[0;34m(\u001b[0m\u001b[0mpath\u001b[0m\u001b[0;34m,\u001b[0m \u001b[0;34m'r'\u001b[0m\u001b[0;34m)\u001b[0m \u001b[0;32mas\u001b[0m \u001b[0mfd\u001b[0m\u001b[0;34m:\u001b[0m\u001b[0;34m\u001b[0m\u001b[0;34m\u001b[0m\u001b[0m\n",
      "\u001b[0m\n"
     ]
    },
    {
     "name": "stdin",
     "output_type": "stream",
     "text": [
      "ipdb>  c\n"
     ]
    },
    {
     "name": "stdout",
     "output_type": "stream",
     "text": [
      "> \u001b[0;32m/var/folders/02/lb248q1j50dch2pthzkvxmpr0000gn/T/ipykernel_96163/311445158.py\u001b[0m(42)\u001b[0;36mfindDataframes\u001b[0;34m()\u001b[0m\n",
      "\u001b[0;32m     40 \u001b[0;31m                \u001b[0mnew_names\u001b[0m\u001b[0;34m.\u001b[0m\u001b[0mappend\u001b[0m\u001b[0;34m(\u001b[0m\u001b[0mkey\u001b[0m\u001b[0;34m)\u001b[0m\u001b[0;34m\u001b[0m\u001b[0;34m\u001b[0m\u001b[0m\n",
      "\u001b[0m\u001b[0;32m     41 \u001b[0;31m                \u001b[0;32mimport\u001b[0m \u001b[0mpdb\u001b[0m\u001b[0;34m;\u001b[0m \u001b[0mpdb\u001b[0m\u001b[0;34m.\u001b[0m\u001b[0mset_trace\u001b[0m\u001b[0;34m(\u001b[0m\u001b[0;34m)\u001b[0m\u001b[0;34m\u001b[0m\u001b[0;34m\u001b[0m\u001b[0m\n",
      "\u001b[0m\u001b[0;32m---> 42 \u001b[0;31m                \u001b[0;32mreturn\u001b[0m \u001b[0mfindDataframes\u001b[0m\u001b[0;34m(\u001b[0m\u001b[0mitem\u001b[0m\u001b[0;34m[\u001b[0m\u001b[0mkey\u001b[0m\u001b[0;34m]\u001b[0m\u001b[0;34m,\u001b[0m \u001b[0mnew_names\u001b[0m\u001b[0;34m,\u001b[0m \u001b[0mdfs\u001b[0m\u001b[0;34m)\u001b[0m\u001b[0;34m\u001b[0m\u001b[0;34m\u001b[0m\u001b[0m\n",
      "\u001b[0m\u001b[0;32m     43 \u001b[0;31m    \u001b[0;31m#\u001b[0m\u001b[0;34m\u001b[0m\u001b[0;34m\u001b[0m\u001b[0;34m\u001b[0m\u001b[0m\n",
      "\u001b[0m\u001b[0;32m     44 \u001b[0;31m    \u001b[0;32mwith\u001b[0m \u001b[0mh5py\u001b[0m\u001b[0;34m.\u001b[0m\u001b[0mFile\u001b[0m\u001b[0;34m(\u001b[0m\u001b[0mpath\u001b[0m\u001b[0;34m,\u001b[0m \u001b[0;34m'r'\u001b[0m\u001b[0;34m)\u001b[0m \u001b[0;32mas\u001b[0m \u001b[0mfd\u001b[0m\u001b[0;34m:\u001b[0m\u001b[0;34m\u001b[0m\u001b[0;34m\u001b[0m\u001b[0m\n",
      "\u001b[0m\n"
     ]
    },
    {
     "name": "stdin",
     "output_type": "stream",
     "text": [
      "ipdb>  c\n"
     ]
    },
    {
     "name": "stdout",
     "output_type": "stream",
     "text": [
      "> \u001b[0;32m/var/folders/02/lb248q1j50dch2pthzkvxmpr0000gn/T/ipykernel_96163/311445158.py\u001b[0m(35)\u001b[0;36mfindDataframes\u001b[0;34m()\u001b[0m\n",
      "\u001b[0;32m     33 \u001b[0;31m                \u001b[0mdf\u001b[0m\u001b[0;34m.\u001b[0m\u001b[0mname\u001b[0m \u001b[0;34m=\u001b[0m \u001b[0;34m\"--\"\u001b[0m\u001b[0;34m.\u001b[0m\u001b[0mjoin\u001b[0m\u001b[0;34m(\u001b[0m\u001b[0mnames\u001b[0m\u001b[0;34m)\u001b[0m\u001b[0;34m\u001b[0m\u001b[0;34m\u001b[0m\u001b[0m\n",
      "\u001b[0m\u001b[0;32m     34 \u001b[0;31m                \u001b[0;32mimport\u001b[0m \u001b[0mpdb\u001b[0m\u001b[0;34m;\u001b[0m \u001b[0mpdb\u001b[0m\u001b[0;34m.\u001b[0m\u001b[0mset_trace\u001b[0m\u001b[0;34m(\u001b[0m\u001b[0;34m)\u001b[0m\u001b[0;34m\u001b[0m\u001b[0;34m\u001b[0m\u001b[0m\n",
      "\u001b[0m\u001b[0;32m---> 35 \u001b[0;31m                \u001b[0mdfs\u001b[0m\u001b[0;34m.\u001b[0m\u001b[0mappend\u001b[0m\u001b[0;34m(\u001b[0m\u001b[0mdf\u001b[0m\u001b[0;34m)\u001b[0m\u001b[0;34m\u001b[0m\u001b[0;34m\u001b[0m\u001b[0m\n",
      "\u001b[0m\u001b[0;32m     36 \u001b[0;31m                \u001b[0;32mreturn\u001b[0m \u001b[0mdfs\u001b[0m\u001b[0;34m\u001b[0m\u001b[0;34m\u001b[0m\u001b[0m\n",
      "\u001b[0m\u001b[0;32m     37 \u001b[0;31m        \u001b[0;32melse\u001b[0m\u001b[0;34m:\u001b[0m\u001b[0;34m\u001b[0m\u001b[0;34m\u001b[0m\u001b[0m\n",
      "\u001b[0m\n"
     ]
    },
    {
     "name": "stdin",
     "output_type": "stream",
     "text": [
      "ipdb>  df\n"
     ]
    },
    {
     "name": "stdout",
     "output_type": "stream",
     "text": [
      "     del_Cln2_data_set_time  del_Cln2_data_set_Cln3  del_Cln2_data_set_SMBF  \\\n",
      "0                       0.0                     1.0                     1.0   \n",
      "1                       1.0                     0.0                     0.0   \n",
      "2                       2.0                     0.0                     0.0   \n",
      "3                       3.0                     1.0                     0.0   \n",
      "4                       4.0                     1.0                     1.0   \n",
      "..                      ...                     ...                     ...   \n",
      "96                     96.0                     0.0                     0.0   \n",
      "97                     97.0                     0.0                     0.0   \n",
      "98                     98.0                     1.0                     0.0   \n",
      "99                     99.0                     1.0                     0.0   \n",
      "100                   100.0                     1.0                     0.0   \n",
      "\n",
      "     del_Cln2_data_set_Cln2  del_Cln2_data_set_Clb5  del_Cln2_data_set_Yhp1  \\\n",
      "0                       0.0                     0.0                     1.0   \n",
      "1                       0.0                     1.0                     1.0   \n",
      "2                       0.0                     0.0                     0.0   \n",
      "3                       0.0                     0.0                     0.0   \n",
      "4                       0.0                     0.0                     0.0   \n",
      "..                      ...                     ...                     ...   \n",
      "96                      0.0                     1.0                     1.0   \n",
      "97                      0.0                     0.0                     0.0   \n",
      "98                      0.0                     0.0                     0.0   \n",
      "99                      0.0                     0.0                     0.0   \n",
      "100                     0.0                     0.0                     0.0   \n",
      "\n",
      "     del_Cln2_data_set_Clb2  del_Cln2_data_set_SFF  del_Cln2_data_set_Cdc20  \\\n",
      "0                       1.0                    0.0                      0.0   \n",
      "1                       0.0                    0.0                      0.0   \n",
      "2                       0.0                    0.0                      0.0   \n",
      "3                       0.0                    0.0                      0.0   \n",
      "4                       0.0                    0.0                      0.0   \n",
      "..                      ...                    ...                      ...   \n",
      "96                      1.0                    1.0                      0.0   \n",
      "97                      1.0                    1.0                      1.0   \n",
      "98                      1.0                    1.0                      1.0   \n",
      "99                      1.0                    1.0                      1.0   \n",
      "100                     1.0                    1.0                      1.0   \n",
      "\n",
      "     del_Cln2_data_set_FEAR  del_Cln2_data_set_MEN  del_Cln2_data_set_Cdc14  \\\n",
      "0                       1.0                    0.0                      1.0   \n",
      "1                       0.0                    1.0                      0.0   \n",
      "2                       0.0                    0.0                      0.0   \n",
      "3                       0.0                    0.0                      0.0   \n",
      "4                       0.0                    0.0                      0.0   \n",
      "..                      ...                    ...                      ...   \n",
      "96                      0.0                    0.0                      0.0   \n",
      "97                      0.0                    0.0                      0.0   \n",
      "98                      1.0                    0.0                      0.0   \n",
      "99                      1.0                    1.0                      0.0   \n",
      "100                     1.0                    1.0                      1.0   \n",
      "\n",
      "     del_Cln2_data_set_Swi5  del_Cln2_data_set_CKI  del_Cln2_data_set_Cdh1  \\\n",
      "0                       0.0                    1.0                     1.0   \n",
      "1                       0.0                    0.0                     1.0   \n",
      "2                       0.0                    0.0                     0.0   \n",
      "3                       0.0                    0.0                     1.0   \n",
      "4                       0.0                    0.0                     1.0   \n",
      "..                      ...                    ...                     ...   \n",
      "96                      0.0                    0.0                     0.0   \n",
      "97                      0.0                    0.0                     0.0   \n",
      "98                      0.0                    0.0                     0.0   \n",
      "99                      0.0                    0.0                     0.0   \n",
      "100                     0.0                    0.0                     0.0   \n",
      "\n",
      "     del_Cln2_data_set_S  del_Cln2_data_set_B  del_Cln2_data_set_M  \\\n",
      "0                    0.0                  0.0                  1.0   \n",
      "1                    1.0                  0.0                  1.0   \n",
      "2                    0.0                  0.0                  0.0   \n",
      "3                    0.0                  0.0                  0.0   \n",
      "4                    0.0                  0.0                  0.0   \n",
      "..                   ...                  ...                  ...   \n",
      "96                   1.0                  1.0                  1.0   \n",
      "97                   1.0                  1.0                  1.0   \n",
      "98                   1.0                  1.0                  1.0   \n",
      "99                   1.0                  1.0                  1.0   \n",
      "100                  1.0                  1.0                  1.0   \n",
      "\n",
      "     del_Cln2_data_set_CD  \n",
      "0                     0.0  \n",
      "1                     1.0  \n",
      "2                     0.0  \n",
      "3                     0.0  \n",
      "4                     0.0  \n",
      "..                    ...  \n",
      "96                    0.0  \n",
      "97                    0.0  \n",
      "98                    0.0  \n",
      "99                    0.0  \n",
      "100                   0.0  \n",
      "\n",
      "[101 rows x 19 columns]\n"
     ]
    },
    {
     "name": "stdin",
     "output_type": "stream",
     "text": [
      "ipdb>  c\n"
     ]
    }
   ],
   "source": [
    "def getH5Dataframes(path:str):\n",
    "    \"\"\"\n",
    "    Recursively searches a Biosimulations HDF5 file for datasets.\n",
    "    \n",
    "    Args:\n",
    "        path: path to HDF5 file\n",
    "        \n",
    "    Returns:\n",
    "        DataFrames\n",
    "           name: name of the dataset\n",
    "           columns: variables\n",
    "           rows: instance\n",
    "    \"\"\"\n",
    "    def findDataframes(item, group_names, dfs):\n",
    "        \"\"\"\n",
    "        Recursively searches groups for datasets with sedmlDataSetIds.\n",
    "        \n",
    "        Args:\n",
    "            item: Group/Dataset\n",
    "            group_names: list-str\n",
    "            dfs: list-DataFrame\n",
    "        Returns:\n",
    "            list-DataFrame\n",
    "        \"\"\"\n",
    "        names = list(group_names)\n",
    "        names.append(item.name)\n",
    "        if \"Dataset\" in str(type(item)):\n",
    "            # Encountered a leaf in the container graph\n",
    "            if \"sedmlDataSetIds\" in item.attrs.keys():\n",
    "                index = list(item.attrs[\"sedmlDataSetIds\"])\n",
    "                df = pd.DataFrame(item[:,:], index=index)\n",
    "                df = df.T\n",
    "                df.name = \"--\".join(names)\n",
    "                import pdb; pdb.set_trace()\n",
    "                dfs.append(df)\n",
    "                return dfs\n",
    "        else:\n",
    "            for key in item.keys():\n",
    "                new_names = list(names)\n",
    "                new_names.append(key)\n",
    "                import pdb; pdb.set_trace()\n",
    "                return findDataframes(item[key], new_names, dfs)\n",
    "    #  \n",
    "    with h5py.File(path, 'r') as fd:\n",
    "        return findDataframes(fd, [], [])\n",
    "    \n",
    "# TESTS\n",
    "path = \"../local/cache/61fea483f499ccf25faafc4d/outputs/reports.h5\"\n",
    "dfs = getH5Dataframes(path)"
   ]
  },
  {
   "cell_type": "code",
   "execution_count": 136,
   "id": "206aed05-76cc-4ddc-8cdd-168ec072eba3",
   "metadata": {
    "tags": []
   },
   "outputs": [
    {
     "data": {
      "text/plain": [
       "1"
      ]
     },
     "execution_count": 136,
     "metadata": {},
     "output_type": "execute_result"
    }
   ],
   "source": [
    "len(dfs)"
   ]
  },
  {
   "cell_type": "code",
   "execution_count": 110,
   "id": "e3dd5127-ef6e-4297-b2c9-400c6715633b",
   "metadata": {
    "tags": []
   },
   "outputs": [
    {
     "data": {
      "text/plain": [
       "<KeysViewHDF5 ['XPP']>"
      ]
     },
     "execution_count": 110,
     "metadata": {},
     "output_type": "execute_result"
    }
   ],
   "source": [
    "project_id = \"modeldb-206364\"\n",
    "project = Project(project_id)\n",
    "project.initialize()\n",
    "hd5_path = project.getH5FilePath()\n",
    "fd5 = h5py.File(hd5_path, 'r')\n",
    "fd5.keys()"
   ]
  },
  {
   "cell_type": "code",
   "execution_count": 126,
   "id": "5d534a22-8dc3-4d5c-9934-84143dd221a1",
   "metadata": {
    "tags": []
   },
   "outputs": [
    {
     "data": {
      "text/plain": [
       "h5py._hl.dataset.Dataset"
      ]
     },
     "execution_count": 126,
     "metadata": {},
     "output_type": "execute_result"
    }
   ],
   "source": [
    "type(fd5['XPP']['aEIF.sedml']['report'])"
   ]
  },
  {
   "cell_type": "code",
   "execution_count": 116,
   "id": "8db73517-bf15-415b-99ec-1659893456e1",
   "metadata": {
    "tags": []
   },
   "outputs": [
    {
     "data": {
      "text/plain": [
       "'XPP/aEIF.sedml/report'"
      ]
     },
     "execution_count": 116,
     "metadata": {},
     "output_type": "execute_result"
    }
   ],
   "source": [
    "fd5[\"XPP\"][\"aEIF.sedml\"]['report'].attrs['uri']"
   ]
  },
  {
   "cell_type": "code",
   "execution_count": null,
   "id": "511d10bd-d5bc-45b8-99c1-9675c3cdcbc2",
   "metadata": {},
   "outputs": [],
   "source": [
    "def mkDataFrames(project_id):\n",
    "    \"\"\"\n",
    "    Creates dataframes from the h5 file for the project.\n",
    "    \n",
    "    Args:\n",
    "        project_id\n",
    "        \n",
    "    Returns:\n",
    "        list-DataFrame\n",
    "            name = key\n",
    "            columns variable names\n",
    "    \"\"\"\n",
    "    # Check that the filedds all have the same structure\n",
    "    dfs = []\n",
    "    hd5_path = project.getH5FilePath()\n",
    "    fd5 = h5py.File(hd5_path, 'r')\n",
    "    # Find a sedml key\n",
    "    keys = [k for k in fd5.keys() if \".sedml\" in k]\n",
    "    for key in key:\n",
    "        datasets = fd5[key]\n",
    "        names = []\n",
    "        for dataset in datasets:\n",
    "            if \"report\" in dataset.name:\n",
    "                df = pd.DataFrame(dataset[:, :])\n",
    "                df = df.T\n",
    "        if selected_dataset is None:\n",
    "            print (\"***No report data set in %s\" % (project.project_id))\n",
    "            continue\n",
    "        if not \"sedmlDataSetIds\" in selected_dataset.attrs.keys():\n",
    "            print (\"***No sedmlDataSetIds for %s/%s\" % (project.project_id, selected_dataset.name))\n",
    "            num_bad += 1\n",
    "        else:\n",
    "            #print(dataset.shape, len(dataset.attrs[\"sedmlDataSetIds\"]))\n",
    "            #print(dataset[:,:])\n",
    "                \n",
    "#"
   ]
  },
  {
   "cell_type": "code",
   "execution_count": 84,
   "id": "d7c2361a-833e-4317-ac8e-92a6d6e8c73a",
   "metadata": {
    "tags": []
   },
   "outputs": [],
   "source": [
    "df = pd.DataFrame"
   ]
  },
  {
   "cell_type": "code",
   "execution_count": 89,
   "id": "daa4d4aa-5a79-4be3-9e96-100023f46b88",
   "metadata": {
    "tags": []
   },
   "outputs": [],
   "source": [
    "df.name = \"aaa\""
   ]
  }
 ],
 "metadata": {
  "kernelspec": {
   "display_name": "Python 3 (ipykernel)",
   "language": "python",
   "name": "python3"
  },
  "language_info": {
   "codemirror_mode": {
    "name": "ipython",
    "version": 3
   },
   "file_extension": ".py",
   "mimetype": "text/x-python",
   "name": "python",
   "nbconvert_exporter": "python",
   "pygments_lexer": "ipython3",
   "version": "3.9.6"
  }
 },
 "nbformat": 4,
 "nbformat_minor": 5
}
