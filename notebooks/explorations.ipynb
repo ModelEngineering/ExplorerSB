{
 "cells": [
  {
   "cell_type": "markdown",
   "id": "5ea85e65-da35-49e9-903c-40ceff655f3a",
   "metadata": {},
   "source": [
    "# EXPLORATIONS"
   ]
  },
  {
   "cell_type": "code",
   "execution_count": 8,
   "id": "d8d8b6c7-41fa-4aed-9179-9669f6415faf",
   "metadata": {
    "tags": []
   },
   "outputs": [],
   "source": [
    "import requests\n",
    "import os\n",
    "import urllib3\n",
    "import h5py\n",
    "from src.ExplorerSB.project import Project\n",
    "import src.ExplorerSB.constants as cn\n",
    "import pandas as pd\n",
    "import typing"
   ]
  },
  {
   "cell_type": "markdown",
   "id": "a959e05d-58ea-465b-a7d6-b9f07d9a95b2",
   "metadata": {},
   "source": [
    "# Reading a file from a URL"
   ]
  },
  {
   "cell_type": "code",
   "execution_count": 2,
   "id": "44da758a-9979-4d01-8761-4252c8f7f4a5",
   "metadata": {
    "tags": []
   },
   "outputs": [
    {
     "data": {
      "text/plain": [
       "6273418"
      ]
     },
     "execution_count": 2,
     "metadata": {},
     "output_type": "execute_result"
    }
   ],
   "source": [
    "# This code retrieves a file\n",
    "url = 'https://storage.googleapis.com/files.biosimulations.org/simulations/621d90b9b50991044c7a1ea6/contents/iYS854.xml'\n",
    "r = requests.get(url, allow_redirects=True)\n",
    "open('iYS854.xml', 'wb').write(r.content)"
   ]
  },
  {
   "cell_type": "code",
   "execution_count": 3,
   "id": "ab90b776-5b55-44c9-89a2-44e049184051",
   "metadata": {
    "tags": []
   },
   "outputs": [
    {
     "data": {
      "text/plain": [
       "Url(scheme='https', auth=None, host='storage.googleapis.com', port=None, path='/files.biosimulations.org/simulations/621d90b9b50991044c7a1ea6/contents/iYS854.xml', query=None, fragment=None)"
      ]
     },
     "execution_count": 3,
     "metadata": {},
     "output_type": "execute_result"
    }
   ],
   "source": [
    "urllib3.util.parse_url(url)"
   ]
  },
  {
   "cell_type": "code",
   "execution_count": 4,
   "id": "d1ce160b-f3c3-4355-b899-61371e50a425",
   "metadata": {
    "tags": []
   },
   "outputs": [
    {
     "data": {
      "text/plain": [
       "'iYS854.xml'"
      ]
     },
     "execution_count": 4,
     "metadata": {},
     "output_type": "execute_result"
    }
   ],
   "source": [
    "def getUrlFile(file_url):\n",
    "    splits = file_url.split(\"/\")\n",
    "    return splits[-1]\n",
    "\n",
    "getUrlFile(url)"
   ]
  },
  {
   "cell_type": "markdown",
   "id": "d6e24714-0888-4c00-b434-53b17cfe63fb",
   "metadata": {},
   "source": [
    "# HDF5 files"
   ]
  },
  {
   "cell_type": "code",
   "execution_count": 7,
   "id": "26ca9bde-2940-4024-a8b1-6fced66c4d5e",
   "metadata": {
    "tags": []
   },
   "outputs": [
    {
     "name": "stdout",
     "output_type": "stream",
     "text": [
      "/Users/jlheller/home/Technical/repos/ExplorerSB/notebooks\n"
     ]
    }
   ],
   "source": [
    "!pwd"
   ]
  },
  {
   "cell_type": "code",
   "execution_count": 13,
   "id": "fc33a07c-5f17-48eb-95ad-d9290e0cf12b",
   "metadata": {
    "tags": []
   },
   "outputs": [],
   "source": [
    "dir_path = \"/Users/jlheller/home/Technical/repos/sbExplorer/local/cache/62a217741493b6b631701a07\"\n",
    "path = os.path.join(dir_path, \"outputs/reports.h5\")\n",
    "fd5 = h5py.File(path, 'r')"
   ]
  },
  {
   "cell_type": "code",
   "execution_count": 14,
   "id": "c97c96d4-c200-45bf-86a0-c8ba075c556c",
   "metadata": {
    "tags": []
   },
   "outputs": [
    {
     "data": {
      "text/plain": [
       "['_MutableMapping__marker',\n",
       " '__abstractmethods__',\n",
       " '__bool__',\n",
       " '__class__',\n",
       " '__class_getitem__',\n",
       " '__contains__',\n",
       " '__delattr__',\n",
       " '__delitem__',\n",
       " '__dict__',\n",
       " '__dir__',\n",
       " '__doc__',\n",
       " '__enter__',\n",
       " '__eq__',\n",
       " '__exit__',\n",
       " '__format__',\n",
       " '__ge__',\n",
       " '__getattribute__',\n",
       " '__getitem__',\n",
       " '__getnewargs__',\n",
       " '__getstate__',\n",
       " '__gt__',\n",
       " '__hash__',\n",
       " '__init__',\n",
       " '__init_subclass__',\n",
       " '__iter__',\n",
       " '__le__',\n",
       " '__len__',\n",
       " '__lt__',\n",
       " '__module__',\n",
       " '__ne__',\n",
       " '__new__',\n",
       " '__nonzero__',\n",
       " '__reduce__',\n",
       " '__reduce_ex__',\n",
       " '__repr__',\n",
       " '__reversed__',\n",
       " '__setattr__',\n",
       " '__setitem__',\n",
       " '__sizeof__',\n",
       " '__slots__',\n",
       " '__str__',\n",
       " '__subclasshook__',\n",
       " '__weakref__',\n",
       " '_abc_impl',\n",
       " '_d',\n",
       " '_e',\n",
       " '_gcpl_crt_order',\n",
       " '_id',\n",
       " '_ipython_key_completions_',\n",
       " '_lapl',\n",
       " '_lcpl',\n",
       " '_libver',\n",
       " 'attrs',\n",
       " 'build_virtual_dataset',\n",
       " 'clear',\n",
       " 'close',\n",
       " 'copy',\n",
       " 'create_dataset',\n",
       " 'create_dataset_like',\n",
       " 'create_group',\n",
       " 'create_virtual_dataset',\n",
       " 'driver',\n",
       " 'file',\n",
       " 'filename',\n",
       " 'flush',\n",
       " 'get',\n",
       " 'id',\n",
       " 'items',\n",
       " 'keys',\n",
       " 'libver',\n",
       " 'meta_block_size',\n",
       " 'mode',\n",
       " 'move',\n",
       " 'name',\n",
       " 'parent',\n",
       " 'pop',\n",
       " 'popitem',\n",
       " 'ref',\n",
       " 'regionref',\n",
       " 'require_dataset',\n",
       " 'require_group',\n",
       " 'setdefault',\n",
       " 'swmr_mode',\n",
       " 'update',\n",
       " 'userblock_size',\n",
       " 'values',\n",
       " 'visit',\n",
       " 'visititems']"
      ]
     },
     "execution_count": 14,
     "metadata": {},
     "output_type": "execute_result"
    }
   ],
   "source": [
    "dir(fd5)"
   ]
  },
  {
   "cell_type": "code",
   "execution_count": 15,
   "id": "08878685-54f2-46d5-8177-441e0e9b7d51",
   "metadata": {
    "tags": []
   },
   "outputs": [
    {
     "data": {
      "text/plain": [
       "[('biomodel_102802266.sedml',\n",
       "  <HDF5 group \"/biomodel_102802266.sedml\" (10 members)>)]"
      ]
     },
     "execution_count": 15,
     "metadata": {},
     "output_type": "execute_result"
    }
   ],
   "source": [
    "[t for t in fd5.items()]"
   ]
  },
  {
   "cell_type": "code",
   "execution_count": 16,
   "id": "933b1c96-7d99-487d-a484-ba2eb39b1007",
   "metadata": {
    "tags": []
   },
   "outputs": [
    {
     "data": {
      "text/plain": [
       "<KeysViewHDF5 ['biomodel_102802266.sedml']>"
      ]
     },
     "execution_count": 16,
     "metadata": {},
     "output_type": "execute_result"
    }
   ],
   "source": [
    "fd5.keys()"
   ]
  },
  {
   "cell_type": "code",
   "execution_count": 27,
   "id": "eb49abe8-1719-4aba-85ab-33b7983ac97c",
   "metadata": {},
   "outputs": [
    {
     "data": {
      "text/plain": [
       "<KeysViewHDF5 []>"
      ]
     },
     "execution_count": 27,
     "metadata": {},
     "output_type": "execute_result"
    }
   ],
   "source": [
    "fd5.attrs.keys()"
   ]
  },
  {
   "cell_type": "code",
   "execution_count": 26,
   "id": "ffd29d50-b711-4e3b-85b8-2997e301411e",
   "metadata": {},
   "outputs": [
    {
     "data": {
      "text/plain": [
       "<KeysViewHDF5 ['combineArchiveLocation', 'uri']>"
      ]
     },
     "execution_count": 26,
     "metadata": {},
     "output_type": "execute_result"
    }
   ],
   "source": [
    "fd5['biomodel_102802266.sedml'].attrs.keys()"
   ]
  },
  {
   "cell_type": "code",
   "execution_count": 45,
   "id": "dd34650b-9477-4dfc-852d-3839ca234987",
   "metadata": {
    "tags": []
   },
   "outputs": [
    {
     "data": {
      "text/plain": [
       "<KeysViewHDF5 ['plot2d_DA0_1', 'plot2d_DA0_1___BAY607550', 'plot2d_DA0_1___MMPX', 'plot2d_DA0_1___SNAP', 'plot2d_DA1_0', 'report_DA0_1', 'report_DA0_1___BAY607550', 'report_DA0_1___MMPX', 'report_DA0_1___SNAP', 'report_DA1_0']>"
      ]
     },
     "execution_count": 45,
     "metadata": {},
     "output_type": "execute_result"
    }
   ],
   "source": [
    "fd5['biomodel_102802266.sedml'].keys()"
   ]
  },
  {
   "cell_type": "code",
   "execution_count": 19,
   "id": "ec44780a-378a-497d-a77d-cc5b849c1c91",
   "metadata": {
    "tags": []
   },
   "outputs": [
    {
     "data": {
      "text/plain": [
       "(70, 1051)"
      ]
     },
     "execution_count": 19,
     "metadata": {},
     "output_type": "execute_result"
    }
   ],
   "source": [
    "dataset = fd5['biomodel_102802266.sedml']['plot2d_DA0_1']\n",
    "dataset.shape"
   ]
  },
  {
   "cell_type": "code",
   "execution_count": 80,
   "id": "49444198-e5d9-4499-9813-df21b4b9e698",
   "metadata": {},
   "outputs": [
    {
     "data": {
      "text/plain": [
       "h5py._hl.dataset.Dataset"
      ]
     },
     "execution_count": 80,
     "metadata": {},
     "output_type": "execute_result"
    }
   ],
   "source": [
    "type(dataset)\n"
   ]
  },
  {
   "cell_type": "code",
   "execution_count": 20,
   "id": "9ceea0be-2f5b-4556-b135-bac94715bc66",
   "metadata": {
    "tags": []
   },
   "outputs": [
    {
     "data": {
      "text/plain": [
       "array([[5.50000000e+01, 5.50000000e+01, 5.50000000e+01, ...,\n",
       "        4.69028683e+01, 4.69028683e+01, 4.69028683e+01],\n",
       "       [0.00000000e+00, 2.22514893e-21, 4.42692764e-21, ...,\n",
       "        8.09713165e+00, 8.09713165e+00, 8.09713165e+00],\n",
       "       [1.50000000e+01, 1.50000000e+01, 1.50000000e+01, ...,\n",
       "        1.50000000e+01, 1.50000000e+01, 1.50000000e+01],\n",
       "       ...,\n",
       "       [1.50000000e-01, 1.50000000e-01, 1.50000000e-01, ...,\n",
       "        1.50000000e-01, 1.50000000e-01, 1.50000000e-01],\n",
       "       [1.50000000e-01, 1.50000000e-01, 1.50000000e-01, ...,\n",
       "        1.50000000e-01, 1.50000000e-01, 1.50000000e-01],\n",
       "       [0.00000000e+00, 6.00000000e+01, 1.20000000e+02, ...,\n",
       "        6.28800000e+04, 6.29400000e+04, 6.30000000e+04]])"
      ]
     },
     "execution_count": 20,
     "metadata": {},
     "output_type": "execute_result"
    }
   ],
   "source": [
    "dataset[:,:]"
   ]
  },
  {
   "cell_type": "code",
   "execution_count": 44,
   "id": "b1d3bd6a-9190-47c1-a60f-05528c141288",
   "metadata": {
    "tags": []
   },
   "outputs": [
    {
     "data": {
      "text/plain": [
       "<KeysViewHDF5 ['biomodel_102802266.sedml']>"
      ]
     },
     "execution_count": 44,
     "metadata": {},
     "output_type": "execute_result"
    }
   ],
   "source": [
    "fd5.keys()"
   ]
  },
  {
   "cell_type": "code",
   "execution_count": 50,
   "id": "83ffd041-c3ad-4ecb-8261-7f44a1713053",
   "metadata": {},
   "outputs": [
    {
     "data": {
      "text/plain": [
       "'biomodel_102802266.sedml'"
      ]
     },
     "execution_count": 50,
     "metadata": {},
     "output_type": "execute_result"
    }
   ],
   "source": [
    "keys = list(fd5.keys())\n",
    "key = keys[0]\n",
    "key"
   ]
  },
  {
   "cell_type": "code",
   "execution_count": 54,
   "id": "053caf1c-d6da-49bb-9a82-fb0557838c8a",
   "metadata": {},
   "outputs": [
    {
     "data": {
      "text/plain": [
       "<KeysViewHDF5 ['plot2d_DA0_1', 'plot2d_DA0_1___BAY607550', 'plot2d_DA0_1___MMPX', 'plot2d_DA0_1___SNAP', 'plot2d_DA1_0', 'report_DA0_1', 'report_DA0_1___BAY607550', 'report_DA0_1___MMPX', 'report_DA0_1___SNAP', 'report_DA1_0']>"
      ]
     },
     "execution_count": 54,
     "metadata": {},
     "output_type": "execute_result"
    }
   ],
   "source": [
    "fd5[key].keys()"
   ]
  },
  {
   "cell_type": "code",
   "execution_count": 69,
   "id": "ef4ceddb-af6e-4508-aa5d-a390b86f8e5b",
   "metadata": {},
   "outputs": [
    {
     "data": {
      "text/plain": [
       "<KeysViewHDF5 ['_type', 'sedmlDataSetDataTypes', 'sedmlDataSetIds', 'sedmlDataSetLabels', 'sedmlDataSetNames', 'sedmlDataSetShapes', 'sedmlId', 'sedmlName', 'uri']>"
      ]
     },
     "execution_count": 69,
     "metadata": {},
     "output_type": "execute_result"
    }
   ],
   "source": [
    "dataset = fd5[key]['plot2d_DA1_0']\n",
    "dataset.attrs.keys()"
   ]
  },
  {
   "cell_type": "code",
   "execution_count": 70,
   "id": "3586bd9e-a6c6-4f79-ab56-8f6cda5cf673",
   "metadata": {},
   "outputs": [
    {
     "data": {
      "text/plain": [
       "'plot2d_DA1_0'"
      ]
     },
     "execution_count": 70,
     "metadata": {},
     "output_type": "execute_result"
    }
   ],
   "source": [
    "dataset.attrs['sedmlId']"
   ]
  },
  {
   "cell_type": "code",
   "execution_count": 71,
   "id": "42581286-b77f-478e-b4f0-5e2fb13579e2",
   "metadata": {},
   "outputs": [
    {
     "data": {
      "text/plain": [
       "'Application0_DA1.0_plot'"
      ]
     },
     "execution_count": 71,
     "metadata": {},
     "output_type": "execute_result"
    }
   ],
   "source": [
    "dataset.attrs['sedmlName']"
   ]
  },
  {
   "cell_type": "code",
   "execution_count": 72,
   "id": "bb620adb-e0b5-40f8-8809-405bc9eba08e",
   "metadata": {},
   "outputs": [
    {
     "data": {
      "text/plain": [
       "array(['dataGen_tsk_0_0_AC5', 'dataGen_tsk_0_0_AC5_Ga',\n",
       "       'dataGen_tsk_0_0_ACbg', 'dataGen_tsk_0_0_AMP',\n",
       "       'dataGen_tsk_0_0_AMPAR', 'dataGen_tsk_0_0_ATP',\n",
       "       'dataGen_tsk_0_0_BRaf', 'dataGen_tsk_0_0_BRaf_PKA',\n",
       "       'dataGen_tsk_0_0_Bay60', 'dataGen_tsk_0_0_D1R',\n",
       "       'dataGen_tsk_0_0_D1R_Gaby', 'dataGen_tsk_0_0_DA',\n",
       "       'dataGen_tsk_0_0_DARPP32', 'dataGen_tsk_0_0_DARPP32_Pi',\n",
       "       'dataGen_tsk_0_0_DARPP32_Pi_PP1', 'dataGen_tsk_0_0_DA_D1R',\n",
       "       'dataGen_tsk_0_0_DA_D1R_Gaby', 'dataGen_tsk_0_0_ERK',\n",
       "       'dataGen_tsk_0_0_ERK_Tyr', 'dataGen_tsk_0_0_ERK_active',\n",
       "       'dataGen_tsk_0_0_Four1N', 'dataGen_tsk_0_0_GMP',\n",
       "       'dataGen_tsk_0_0_GTP', 'dataGen_tsk_0_0_Ga_GDP',\n",
       "       'dataGen_tsk_0_0_Ga_GTP', 'dataGen_tsk_0_0_Gaby',\n",
       "       'dataGen_tsk_0_0_Gby', 'dataGen_tsk_0_0_GluA1',\n",
       "       'dataGen_tsk_0_0_GluA1_845', 'dataGen_tsk_0_0_GluA1_dephos',\n",
       "       'dataGen_tsk_0_0_MEK', 'dataGen_tsk_0_0_MEK_Ser',\n",
       "       'dataGen_tsk_0_0_MEK_active', 'dataGen_tsk_0_0_MMPX',\n",
       "       'dataGen_tsk_0_0_PDE1', 'dataGen_tsk_0_0_PDE1_cAMP',\n",
       "       'dataGen_tsk_0_0_PDE1_cGMP', 'dataGen_tsk_0_0_PDE1_inhibited',\n",
       "       'dataGen_tsk_0_0_PDE2', 'dataGen_tsk_0_0_PDE2_active',\n",
       "       'dataGen_tsk_0_0_PDE2_active_cAMP',\n",
       "       'dataGen_tsk_0_0_PDE2_active_cGMP', 'dataGen_tsk_0_0_PDE2_cAMP',\n",
       "       'dataGen_tsk_0_0_PDE2_cGMP', 'dataGen_tsk_0_0_PDE2_inhibited',\n",
       "       'dataGen_tsk_0_0_PDE4', 'dataGen_tsk_0_0_PDE4_ERK',\n",
       "       'dataGen_tsk_0_0_PDE4_ERK_PKA', 'dataGen_tsk_0_0_PDE4_PKA',\n",
       "       'dataGen_tsk_0_0_PDEbg_cAMP', 'dataGen_tsk_0_0_PDEbg_cGMP',\n",
       "       'dataGen_tsk_0_0_PKA', 'dataGen_tsk_0_0_PP1',\n",
       "       'dataGen_tsk_0_0_PP2A', 'dataGen_tsk_0_0_R2C2',\n",
       "       'dataGen_tsk_0_0_R2C2_cAMP', 'dataGen_tsk_0_0_R2C2_cAMP2',\n",
       "       'dataGen_tsk_0_0_R2C2_cAMP3', 'dataGen_tsk_0_0_R2C2_cAMP4',\n",
       "       'dataGen_tsk_0_0_R2C_cAMP4', 'dataGen_tsk_0_0_R2_cAMP4',\n",
       "       'dataGen_tsk_0_0_SNAP', 'dataGen_tsk_0_0_STEP',\n",
       "       'dataGen_tsk_0_0_STEP_PKA', 'dataGen_tsk_0_0_cAMP',\n",
       "       'dataGen_tsk_0_0_cGMP', 'dataGen_tsk_0_0_sGC_active',\n",
       "       'dataGen_tsk_0_0_sGC_basal', 'dataGen_tsk_0_0_sGC_inactive',\n",
       "       'time_tsk_0_0'], dtype=object)"
      ]
     },
     "execution_count": 72,
     "metadata": {},
     "output_type": "execute_result"
    }
   ],
   "source": [
    "dataset.attrs['sedmlDataSetLabels']"
   ]
  },
  {
   "cell_type": "code",
   "execution_count": 52,
   "id": "7376e167-608f-4f74-8962-7bf17096276f",
   "metadata": {},
   "outputs": [
    {
     "data": {
      "text/plain": [
       "True"
      ]
     },
     "execution_count": 52,
     "metadata": {},
     "output_type": "execute_result"
    }
   ],
   "source": [
    "'biomodel_102802266.sedml' == key\n",
    "\n"
   ]
  },
  {
   "cell_type": "code",
   "execution_count": null,
   "id": "9f8908b2-b94b-44a1-a394-d28f24272fc7",
   "metadata": {},
   "outputs": [],
   "source": [
    "/Users/jlheller/home/Technical/repos/ExplorerSB/tmp/647106f39a62a8be53f734bd/outputs"
   ]
  },
  {
   "cell_type": "code",
   "execution_count": 79,
   "id": "d97b6662-69a8-4895-b9ed-1e871edce674",
   "metadata": {},
   "outputs": [
    {
     "name": "stdout",
     "output_type": "stream",
     "text": [
      "> \u001b[0;32m/var/folders/02/lb248q1j50dch2pthzkvxmpr0000gn/T/ipykernel_7867/117006054.py\u001b[0m(14)\u001b[0;36mexploreH5\u001b[0;34m()\u001b[0m\n",
      "\u001b[0;32m     12 \u001b[0;31m    \u001b[0mdkey\u001b[0m \u001b[0;34m=\u001b[0m \u001b[0;32mNone\u001b[0m\u001b[0;34m\u001b[0m\u001b[0;34m\u001b[0m\u001b[0m\n",
      "\u001b[0m\u001b[0;32m     13 \u001b[0;31m    \u001b[0;32mimport\u001b[0m \u001b[0mpdb\u001b[0m\u001b[0;34m;\u001b[0m \u001b[0mpdb\u001b[0m\u001b[0;34m.\u001b[0m\u001b[0mset_trace\u001b[0m\u001b[0;34m(\u001b[0m\u001b[0;34m)\u001b[0m\u001b[0;34m\u001b[0m\u001b[0;34m\u001b[0m\u001b[0m\n",
      "\u001b[0m\u001b[0;32m---> 14 \u001b[0;31m    \u001b[0;32mfor\u001b[0m \u001b[0mkey\u001b[0m \u001b[0;32min\u001b[0m \u001b[0mdataset\u001b[0m\u001b[0;34m.\u001b[0m\u001b[0mkeys\u001b[0m\u001b[0;34m(\u001b[0m\u001b[0;34m)\u001b[0m\u001b[0;34m:\u001b[0m\u001b[0;34m\u001b[0m\u001b[0;34m\u001b[0m\u001b[0m\n",
      "\u001b[0m\u001b[0;32m     15 \u001b[0;31m        \u001b[0;32mif\u001b[0m \u001b[0;34m\"report\"\u001b[0m \u001b[0;32min\u001b[0m \u001b[0mkey\u001b[0m\u001b[0;34m:\u001b[0m\u001b[0;34m\u001b[0m\u001b[0;34m\u001b[0m\u001b[0m\n",
      "\u001b[0m\u001b[0;32m     16 \u001b[0;31m            \u001b[0mdkey\u001b[0m \u001b[0;34m=\u001b[0m \u001b[0mkey\u001b[0m\u001b[0;34m\u001b[0m\u001b[0;34m\u001b[0m\u001b[0m\n",
      "\u001b[0m\n"
     ]
    },
    {
     "name": "stdin",
     "output_type": "stream",
     "text": [
      "ipdb>  dataset.attrs.keys()\n"
     ]
    },
    {
     "name": "stdout",
     "output_type": "stream",
     "text": [
      "<KeysViewHDF5 ['combineArchiveLocation', 'uri']>\n"
     ]
    },
    {
     "name": "stdin",
     "output_type": "stream",
     "text": [
      "ipdb>  keys\n"
     ]
    },
    {
     "name": "stdout",
     "output_type": "stream",
     "text": [
      "['BIOMD0000000002_url.sedml']\n"
     ]
    },
    {
     "name": "stdin",
     "output_type": "stream",
     "text": [
      "ipdb>  dataset['combineArchiveLocation']\n"
     ]
    },
    {
     "name": "stdout",
     "output_type": "stream",
     "text": [
      "*** KeyError: \"Unable to open object (object 'combineArchiveLocation' doesn't exist)\"\n"
     ]
    },
    {
     "name": "stdin",
     "output_type": "stream",
     "text": [
      "ipdb>  dataset['combineArchiveLocation']\n"
     ]
    },
    {
     "name": "stdout",
     "output_type": "stream",
     "text": [
      "*** KeyError: \"Unable to open object (object 'combineArchiveLocation' doesn't exist)\"\n"
     ]
    },
    {
     "name": "stdin",
     "output_type": "stream",
     "text": [
      "ipdb>  dataset.keys()\n"
     ]
    },
    {
     "name": "stdout",
     "output_type": "stream",
     "text": [
      "<KeysViewHDF5 ['autogen_plot_for_task1', 'autogen_report_for_task1']>\n"
     ]
    },
    {
     "name": "stdin",
     "output_type": "stream",
     "text": [
      "ipdb>  dataset['autogen_plot_for_task1']\n"
     ]
    },
    {
     "name": "stdout",
     "output_type": "stream",
     "text": [
      "<HDF5 dataset \"autogen_plot_for_task1\": shape (14, 1001), type \"<f8\">\n"
     ]
    },
    {
     "name": "stdin",
     "output_type": "stream",
     "text": [
      "ipdb>  dataset['autogen_plot_for_task1'].attrs.keys()\n"
     ]
    },
    {
     "name": "stdout",
     "output_type": "stream",
     "text": [
      "<KeysViewHDF5 ['_type', 'sedmlDataSetDataTypes', 'sedmlDataSetIds', 'sedmlDataSetLabels', 'sedmlDataSetNames', 'sedmlDataSetShapes', 'sedmlId', 'sedmlName', 'uri']>\n"
     ]
    },
    {
     "name": "stdin",
     "output_type": "stream",
     "text": [
      "ipdb>  dataset['autogen_plot_for_task1'].attrs['sedmlDataSetNames']\n"
     ]
    },
    {
     "name": "stdout",
     "output_type": "stream",
     "text": [
      "array(['', '', '', '', '', '', '', '', '', '', '', '', '', 'Time'],\n",
      "      dtype=object)\n"
     ]
    },
    {
     "name": "stdin",
     "output_type": "stream",
     "text": [
      "ipdb>  dataset['autogen_plot_for_task1'].attrs['sedmlName']\n"
     ]
    },
    {
     "name": "stdout",
     "output_type": "stream",
     "text": [
      "'Auto-generated plot for task1, including all species.'\n"
     ]
    },
    {
     "name": "stdin",
     "output_type": "stream",
     "text": [
      "ipdb>  exit\n"
     ]
    }
   ],
   "source": [
    "def exploreH5(runid):\n",
    "    dir_path = \"/Users/jlheller/home/Technical/repos/sbExplorer/local/cache/%s\" % runid\n",
    "    dir_path = \"/Users/jlheller/home/Technical/repos/ExplorerSB/tmp/\"\n",
    "    dir_path = os.path.join(dir_path, runid)\n",
    "    path = os.path.join(dir_path, \"outputs/reports.h5\")\n",
    "    if not os.path.isfile(path):\n",
    "        raise ValueError(\"No reports.h5\")\n",
    "    fd5 = h5py.File(path, 'r')\n",
    "    keys = list(fd5.keys())\n",
    "    key = keys[0]\n",
    "    dataset = fd5[key]\n",
    "    dkey = None\n",
    "    import pdb; pdb.set_trace()\n",
    "    for key in dataset.keys():\n",
    "        if \"report\" in key:\n",
    "            dkey = key\n",
    "            break\n",
    "    print(dataset[key].attrs['sedmlDataSetLabels'])\n",
    "    #print(dataset[key].attrs['sedmlDataSetIds'])\n",
    "    print(key)\n",
    "\n",
    "runid = \"62a217741493b6b631701a07\"\n",
    "runid = \"6261761290c6a19595578e63\"\n",
    "runid = \"6261760eabe612c540c684e0\"\n",
    "runid = \"647106f39a62a8be53f734bd\"\n",
    "exploreH5(runid)"
   ]
  },
  {
   "cell_type": "code",
   "execution_count": 28,
   "id": "3ff20b4f-7550-4ae6-a638-47e5cd8dd541",
   "metadata": {
    "tags": []
   },
   "outputs": [
    {
     "name": "stdout",
     "output_type": "stream",
     "text": [
      "_type\n",
      "SedReport\n",
      "sedmlDataSetDataTypes\n",
      "['float64' 'float64' 'float64' 'float64' 'float64' 'float64' 'float64'\n",
      " 'float64' 'float64' 'float64' 'float64' 'float64' 'float64' 'float64'\n",
      " 'float64' 'float64' 'float64' 'float64' 'float64' 'float64' 'float64'\n",
      " 'float64' 'float64' 'float64' 'float64' 'float64' 'float64' 'float64'\n",
      " 'float64' 'float64' 'float64' 'float64' 'float64' 'float64' 'float64'\n",
      " 'float64' 'float64' 'float64' 'float64' 'float64' 'float64' 'float64'\n",
      " 'float64' 'float64' 'float64' 'float64' 'float64' 'float64' 'float64'\n",
      " 'float64' 'float64' 'float64' 'float64' 'float64' 'float64' 'float64'\n",
      " 'float64' 'float64' 'float64' 'float64' 'float64' 'float64' 'float64'\n",
      " 'float64' 'float64' 'float64' 'float64' 'float64' 'float64' 'float64']\n",
      "sedmlDataSetIds\n",
      "['__data_set__plot2d_DA0_1time_tsk_0_1'\n",
      " '__data_set__plot2d_DA0_1dataGen_tsk_0_1_PDE2_cGMP'\n",
      " '__data_set__plot2d_DA0_1dataGen_tsk_0_1_PDE2_inhibited'\n",
      " '__data_set__plot2d_DA0_1dataGen_tsk_0_1_Bay60'\n",
      " '__data_set__plot2d_DA0_1dataGen_tsk_0_1_PDEbg_cGMP'\n",
      " '__data_set__plot2d_DA0_1dataGen_tsk_0_1_GMP'\n",
      " '__data_set__plot2d_DA0_1dataGen_tsk_0_1_PDE2_cAMP'\n",
      " '__data_set__plot2d_DA0_1dataGen_tsk_0_1_GTP'\n",
      " '__data_set__plot2d_DA0_1dataGen_tsk_0_1_sGC_basal'\n",
      " '__data_set__plot2d_DA0_1dataGen_tsk_0_1_R2C2_cAMP'\n",
      " '__data_set__plot2d_DA0_1dataGen_tsk_0_1_R2C2'\n",
      " '__data_set__plot2d_DA0_1dataGen_tsk_0_1_R2C2_cAMP2'\n",
      " '__data_set__plot2d_DA0_1dataGen_tsk_0_1_PKA'\n",
      " '__data_set__plot2d_DA0_1dataGen_tsk_0_1_R2C_cAMP4'\n",
      " '__data_set__plot2d_DA0_1dataGen_tsk_0_1_R2_cAMP4'\n",
      " '__data_set__plot2d_DA0_1dataGen_tsk_0_1_R2C2_cAMP4'\n",
      " '__data_set__plot2d_DA0_1dataGen_tsk_0_1_GluA1_845'\n",
      " '__data_set__plot2d_DA0_1dataGen_tsk_0_1_Four1N'\n",
      " '__data_set__plot2d_DA0_1dataGen_tsk_0_1_AMPAR'\n",
      " '__data_set__plot2d_DA0_1dataGen_tsk_0_1_GluA1_dephos'\n",
      " '__data_set__plot2d_DA0_1dataGen_tsk_0_1_Ga_GTP'\n",
      " '__data_set__plot2d_DA0_1dataGen_tsk_0_1_PDE1'\n",
      " '__data_set__plot2d_DA0_1dataGen_tsk_0_1_D1R'\n",
      " '__data_set__plot2d_DA0_1dataGen_tsk_0_1_Gaby'\n",
      " '__data_set__plot2d_DA0_1dataGen_tsk_0_1_GluA1'\n",
      " '__data_set__plot2d_DA0_1dataGen_tsk_0_1_cAMP'\n",
      " '__data_set__plot2d_DA0_1dataGen_tsk_0_1_DA_D1R_Gaby'\n",
      " '__data_set__plot2d_DA0_1dataGen_tsk_0_1_PDE1_cGMP'\n",
      " '__data_set__plot2d_DA0_1dataGen_tsk_0_1_R2C2_cAMP3'\n",
      " '__data_set__plot2d_DA0_1dataGen_tsk_0_1_PDE2'\n",
      " '__data_set__plot2d_DA0_1dataGen_tsk_0_1_cGMP'\n",
      " '__data_set__plot2d_DA0_1dataGen_tsk_0_1_PDE2_active_cAMP'\n",
      " '__data_set__plot2d_DA0_1dataGen_tsk_0_1_AMP'\n",
      " '__data_set__plot2d_DA0_1dataGen_tsk_0_1_PDE2_active_cGMP'\n",
      " '__data_set__plot2d_DA0_1dataGen_tsk_0_1_Gby'\n",
      " '__data_set__plot2d_DA0_1dataGen_tsk_0_1_Ga_GDP'\n",
      " '__data_set__plot2d_DA0_1dataGen_tsk_0_1_D1R_Gaby'\n",
      " '__data_set__plot2d_DA0_1dataGen_tsk_0_1_DA_D1R'\n",
      " '__data_set__plot2d_DA0_1dataGen_tsk_0_1_PDEbg_cAMP'\n",
      " '__data_set__plot2d_DA0_1dataGen_tsk_0_1_ACbg'\n",
      " '__data_set__plot2d_DA0_1dataGen_tsk_0_1_PDE1_cAMP'\n",
      " '__data_set__plot2d_DA0_1dataGen_tsk_0_1_DA'\n",
      " '__data_set__plot2d_DA0_1dataGen_tsk_0_1_DARPP32'\n",
      " '__data_set__plot2d_DA0_1dataGen_tsk_0_1_DARPP32_Pi'\n",
      " '__data_set__plot2d_DA0_1dataGen_tsk_0_1_AC5'\n",
      " '__data_set__plot2d_DA0_1dataGen_tsk_0_1_AC5_Ga'\n",
      " '__data_set__plot2d_DA0_1dataGen_tsk_0_1_DARPP32_Pi_PP1'\n",
      " '__data_set__plot2d_DA0_1dataGen_tsk_0_1_PP2A'\n",
      " '__data_set__plot2d_DA0_1dataGen_tsk_0_1_MMPX'\n",
      " '__data_set__plot2d_DA0_1dataGen_tsk_0_1_PP1'\n",
      " '__data_set__plot2d_DA0_1dataGen_tsk_0_1_ERK_active'\n",
      " '__data_set__plot2d_DA0_1dataGen_tsk_0_1_PDE4_ERK'\n",
      " '__data_set__plot2d_DA0_1dataGen_tsk_0_1_PDE4'\n",
      " '__data_set__plot2d_DA0_1dataGen_tsk_0_1_PDE4_PKA'\n",
      " '__data_set__plot2d_DA0_1dataGen_tsk_0_1_PDE4_ERK_PKA'\n",
      " '__data_set__plot2d_DA0_1dataGen_tsk_0_1_PDE1_inhibited'\n",
      " '__data_set__plot2d_DA0_1dataGen_tsk_0_1_ATP'\n",
      " '__data_set__plot2d_DA0_1dataGen_tsk_0_1_BRaf'\n",
      " '__data_set__plot2d_DA0_1dataGen_tsk_0_1_BRaf_PKA'\n",
      " '__data_set__plot2d_DA0_1dataGen_tsk_0_1_MEK_active'\n",
      " '__data_set__plot2d_DA0_1dataGen_tsk_0_1_MEK_Ser'\n",
      " '__data_set__plot2d_DA0_1dataGen_tsk_0_1_MEK'\n",
      " '__data_set__plot2d_DA0_1dataGen_tsk_0_1_ERK_Tyr'\n",
      " '__data_set__plot2d_DA0_1dataGen_tsk_0_1_ERK'\n",
      " '__data_set__plot2d_DA0_1dataGen_tsk_0_1_STEP'\n",
      " '__data_set__plot2d_DA0_1dataGen_tsk_0_1_STEP_PKA'\n",
      " '__data_set__plot2d_DA0_1dataGen_tsk_0_1_PDE2_active'\n",
      " '__data_set__plot2d_DA0_1dataGen_tsk_0_1_SNAP'\n",
      " '__data_set__plot2d_DA0_1dataGen_tsk_0_1_sGC_inactive'\n",
      " '__data_set__plot2d_DA0_1dataGen_tsk_0_1_sGC_active']\n",
      "sedmlDataSetLabels\n",
      "['time_tsk_0_1' 'dataGen_tsk_0_1_PDE2_cGMP'\n",
      " 'dataGen_tsk_0_1_PDE2_inhibited' 'dataGen_tsk_0_1_Bay60'\n",
      " 'dataGen_tsk_0_1_PDEbg_cGMP' 'dataGen_tsk_0_1_GMP'\n",
      " 'dataGen_tsk_0_1_PDE2_cAMP' 'dataGen_tsk_0_1_GTP'\n",
      " 'dataGen_tsk_0_1_sGC_basal' 'dataGen_tsk_0_1_R2C2_cAMP'\n",
      " 'dataGen_tsk_0_1_R2C2' 'dataGen_tsk_0_1_R2C2_cAMP2' 'dataGen_tsk_0_1_PKA'\n",
      " 'dataGen_tsk_0_1_R2C_cAMP4' 'dataGen_tsk_0_1_R2_cAMP4'\n",
      " 'dataGen_tsk_0_1_R2C2_cAMP4' 'dataGen_tsk_0_1_GluA1_845'\n",
      " 'dataGen_tsk_0_1_Four1N' 'dataGen_tsk_0_1_AMPAR'\n",
      " 'dataGen_tsk_0_1_GluA1_dephos' 'dataGen_tsk_0_1_Ga_GTP'\n",
      " 'dataGen_tsk_0_1_PDE1' 'dataGen_tsk_0_1_D1R' 'dataGen_tsk_0_1_Gaby'\n",
      " 'dataGen_tsk_0_1_GluA1' 'dataGen_tsk_0_1_cAMP'\n",
      " 'dataGen_tsk_0_1_DA_D1R_Gaby' 'dataGen_tsk_0_1_PDE1_cGMP'\n",
      " 'dataGen_tsk_0_1_R2C2_cAMP3' 'dataGen_tsk_0_1_PDE2'\n",
      " 'dataGen_tsk_0_1_cGMP' 'dataGen_tsk_0_1_PDE2_active_cAMP'\n",
      " 'dataGen_tsk_0_1_AMP' 'dataGen_tsk_0_1_PDE2_active_cGMP'\n",
      " 'dataGen_tsk_0_1_Gby' 'dataGen_tsk_0_1_Ga_GDP' 'dataGen_tsk_0_1_D1R_Gaby'\n",
      " 'dataGen_tsk_0_1_DA_D1R' 'dataGen_tsk_0_1_PDEbg_cAMP'\n",
      " 'dataGen_tsk_0_1_ACbg' 'dataGen_tsk_0_1_PDE1_cAMP' 'dataGen_tsk_0_1_DA'\n",
      " 'dataGen_tsk_0_1_DARPP32' 'dataGen_tsk_0_1_DARPP32_Pi'\n",
      " 'dataGen_tsk_0_1_AC5' 'dataGen_tsk_0_1_AC5_Ga'\n",
      " 'dataGen_tsk_0_1_DARPP32_Pi_PP1' 'dataGen_tsk_0_1_PP2A'\n",
      " 'dataGen_tsk_0_1_MMPX' 'dataGen_tsk_0_1_PP1' 'dataGen_tsk_0_1_ERK_active'\n",
      " 'dataGen_tsk_0_1_PDE4_ERK' 'dataGen_tsk_0_1_PDE4'\n",
      " 'dataGen_tsk_0_1_PDE4_PKA' 'dataGen_tsk_0_1_PDE4_ERK_PKA'\n",
      " 'dataGen_tsk_0_1_PDE1_inhibited' 'dataGen_tsk_0_1_ATP'\n",
      " 'dataGen_tsk_0_1_BRaf' 'dataGen_tsk_0_1_BRaf_PKA'\n",
      " 'dataGen_tsk_0_1_MEK_active' 'dataGen_tsk_0_1_MEK_Ser'\n",
      " 'dataGen_tsk_0_1_MEK' 'dataGen_tsk_0_1_ERK_Tyr' 'dataGen_tsk_0_1_ERK'\n",
      " 'dataGen_tsk_0_1_STEP' 'dataGen_tsk_0_1_STEP_PKA'\n",
      " 'dataGen_tsk_0_1_PDE2_active' 'dataGen_tsk_0_1_SNAP'\n",
      " 'dataGen_tsk_0_1_sGC_inactive' 'dataGen_tsk_0_1_sGC_active']\n",
      "sedmlDataSetNames\n",
      "['' '' '' '' '' '' '' '' '' '' '' '' '' '' '' '' '' '' '' '' '' '' '' ''\n",
      " '' '' '' '' '' '' '' '' '' '' '' '' '' '' '' '' '' '' '' '' '' '' '' ''\n",
      " '' '' '' '' '' '' '' '' '' '' '' '' '' '' '' '' '' '' '' '' '' '']\n",
      "sedmlDataSetShapes\n",
      "['1051' '1051' '1051' '1051' '1051' '1051' '1051' '1051' '1051' '1051'\n",
      " '1051' '1051' '1051' '1051' '1051' '1051' '1051' '1051' '1051' '1051'\n",
      " '1051' '1051' '1051' '1051' '1051' '1051' '1051' '1051' '1051' '1051'\n",
      " '1051' '1051' '1051' '1051' '1051' '1051' '1051' '1051' '1051' '1051'\n",
      " '1051' '1051' '1051' '1051' '1051' '1051' '1051' '1051' '1051' '1051'\n",
      " '1051' '1051' '1051' '1051' '1051' '1051' '1051' '1051' '1051' '1051'\n",
      " '1051' '1051' '1051' '1051' '1051' '1051' '1051' '1051' '1051' '1051']\n",
      "sedmlId\n",
      "report_DA0_1\n",
      "sedmlName\n",
      "Application0_DA0.1_plot\n",
      "uri\n",
      "biomodel_102802266.sedml/report_DA0_1\n"
     ]
    }
   ],
   "source": [
    "dir_path = \"/Users/jlheller/home/Technical/repos/sbExplorer/local/cache/62a217741493b6b631701a07\"\n",
    "path = os.path.join(dir_path, \"outputs/reports.h5\")\n",
    "fd5 = h5py.File(path, 'r')\n",
    "dataset = fd5['biomodel_102802266.sedml']['report_DA0_1']\n",
    "#dataset.shape\n",
    "for key in dataset.attrs.keys():\n",
    "    print(key)\n",
    "    print(dataset.attrs[key])"
   ]
  },
  {
   "cell_type": "markdown",
   "id": "1c4566c0-fd76-4ac5-92a1-e703282f2993",
   "metadata": {},
   "source": [
    "It seems that the attribute sedmlDataSetLabels has the true species names"
   ]
  },
  {
   "cell_type": "code",
   "execution_count": null,
   "id": "5e62a2de-953f-4f95-b45c-f09b82fb7a19",
   "metadata": {
    "tags": []
   },
   "outputs": [],
   "source": [
    "PROJECT_IDs = [\"iYS854\", \"Yeast-cell-cycle-Irons-J-Theor-Biol-2009\"]"
   ]
  },
  {
   "cell_type": "code",
   "execution_count": null,
   "id": "7e5dae5c-97dc-48ce-b48c-538ded7f3b7e",
   "metadata": {
    "tags": []
   },
   "outputs": [],
   "source": [
    "projects = [Project(i) for i in PROJECT_IDs]\n",
    "_ = [p.initialize() for p in projects]"
   ]
  },
  {
   "cell_type": "code",
   "execution_count": null,
   "id": "7284a51a-8a75-49b5-b73e-959c41ce65ce",
   "metadata": {
    "tags": []
   },
   "outputs": [],
   "source": [
    "dct = {cn.PROJECT_ID: [], \"simulation.sedml\": [], \"report1_sedmlDataSetIds\": []}"
   ]
  },
  {
   "cell_type": "code",
   "execution_count": null,
   "id": "7d29aade-527f-4530-ad01-8d26160ce8ec",
   "metadata": {
    "tags": []
   },
   "outputs": [],
   "source": [
    "# Check that the files all have the same structure\n",
    "def run():\n",
    "    num_good = 0\n",
    "    num_bad = 0\n",
    "    generator = Project.iterateProjects()\n",
    "    for project in generator:\n",
    "        hd5_path = project.getH5FilePath()\n",
    "        fd5 = h5py.File(hd5_path, 'r')\n",
    "        # Find a sedml key\n",
    "        for key in fd5.keys():\n",
    "            selected_key = None\n",
    "            if \".sedml\" in key:\n",
    "                selected_key = key\n",
    "                break\n",
    "        if selected_key is None:\n",
    "            print(\"***No *.sedml in %s\" % project.project_id)\n",
    "            num_bad += 1\n",
    "        else:\n",
    "            datasets = list(fd5[selected_key].values())\n",
    "            selected_dataset = None\n",
    "            for dataset in datasets:\n",
    "                if (\"report\" in dataset.name) or (\"plot\" in dataset.name):\n",
    "                    selected_dataset = dataset\n",
    "            if selected_dataset is None:\n",
    "                print (\"***No report or plot data set in %s\" % (project.project_id))\n",
    "                continue\n",
    "            if not \"sedmlDataSetIds\" in selected_dataset.attrs.keys():\n",
    "                print (\"***No sedmlDataSetIds for %s/%s\" % (project.project_id, selected_dataset.name))\n",
    "                num_bad += 1\n",
    "            else:\n",
    "                if len(dataset.shape) == 4:\n",
    "                    print(project.project_id, dataset.shape)\n",
    "                #print(dataset[:,:])\n",
    "                num_good += 1\n",
    "    return num_good, num_bad\n",
    "                \n",
    "#\n",
    "run()"
   ]
  },
  {
   "cell_type": "code",
   "execution_count": null,
   "id": "6ec9ea8c-13f4-4987-b0fc-9f524aefe661",
   "metadata": {
    "tags": []
   },
   "outputs": [],
   "source": [
    "def getH5Dataframes(path:str):\n",
    "    \"\"\"\n",
    "    Recursively searches a Biosimulations HDF5 file for datasets.\n",
    "    \n",
    "    Args:\n",
    "        path: path to HDF5 file\n",
    "        \n",
    "    Returns:\n",
    "        DataFrame properties\n",
    "           name (str): name of the dataset\n",
    "           columns (list-str): variables\n",
    "    \"\"\"\n",
    "    def findDataframes(item, group_names, dfs):\n",
    "        \"\"\"\n",
    "        Recursively searches groups for datasets with sedmlDataSetIds.\n",
    "        \n",
    "        Args:\n",
    "            item: Group/Dataset\n",
    "            group_names: list-str\n",
    "            dfs: list-DataFrame\n",
    "        Returns:\n",
    "            list-DataFrame\n",
    "        \"\"\"\n",
    "        names = list(group_names)\n",
    "        names.append(item.name)\n",
    "        if \"Dataset\" in str(type(item)):\n",
    "            # Encountered a leaf in the container graph\n",
    "            if \"sedmlDataSetIds\" in item.attrs.keys():\n",
    "                index = list(item.attrs[\"sedmlDataSetIds\"])\n",
    "                if len(item.shape) != 2:\n",
    "                    print(\"** Ignored item with strange shape %s\" % str(item.shape))\n",
    "                    return []\n",
    "                df = pd.DataFrame(item[:,:], index=index)\n",
    "                df = df.T\n",
    "                df.name = \"--\".join(names)\n",
    "                #import pdb; pdb.set_trace()\n",
    "                dfs.append(df)\n",
    "                return dfs\n",
    "        else:\n",
    "            new_dfs = []\n",
    "            for key in item.keys():\n",
    "                new_names = list(names)\n",
    "                new_names.append(key)\n",
    "                #import pdb; pdb.set_trace()\n",
    "                this_dfs = findDataframes(item[key], new_names, [])\n",
    "                new_dfs.extend(this_dfs)\n",
    "            result_dfs = list(dfs)\n",
    "            result_dfs.extend(new_dfs)\n",
    "            return result_dfs\n",
    "    #  \n",
    "    with h5py.File(path, 'r') as fd:\n",
    "        return findDataframes(fd, [], [])\n",
    "    \n",
    "# TESTS\n",
    "path = \"../local/cache/61fea483f499ccf25faafc4d/outputs/reports.h5\"\n",
    "dfs = getH5Dataframes(path)"
   ]
  },
  {
   "cell_type": "code",
   "execution_count": null,
   "id": "206aed05-76cc-4ddc-8cdd-168ec072eba3",
   "metadata": {
    "tags": []
   },
   "outputs": [],
   "source": [
    "# Check that the files all have the same structure\n",
    "def run():\n",
    "    num_good = 0\n",
    "    num_bad = 0\n",
    "    generator = Project.iterateProjects()\n",
    "    for project in generator:\n",
    "        hd5_path = project.getH5FilePath()\n",
    "        dfs = getH5Dataframes(hd5_path)\n",
    "        if len(dfs) == 0:\n",
    "            print(\"***No data in %s\" % project.project_id)\n",
    "            num_bad += 1\n",
    "        else:\n",
    "            import pdb; pdb.set_trace()\n",
    "            num_good += 1\n",
    "    return num_good, num_bad\n",
    "                \n",
    "#\n",
    "run()"
   ]
  },
  {
   "cell_type": "code",
   "execution_count": null,
   "id": "e3dd5127-ef6e-4297-b2c9-400c6715633b",
   "metadata": {
    "tags": []
   },
   "outputs": [],
   "source": [
    "project_id = \"modeldb-206364\"\n",
    "project = Project(project_id)\n",
    "project.initialize()\n",
    "hd5_path = project.getH5FilePath()\n",
    "fd5 = h5py.File(hd5_path, 'r')\n",
    "fd5.keys()"
   ]
  },
  {
   "cell_type": "code",
   "execution_count": null,
   "id": "5d534a22-8dc3-4d5c-9934-84143dd221a1",
   "metadata": {
    "tags": []
   },
   "outputs": [],
   "source": [
    "type(fd5['XPP']['aEIF.sedml']['report'])"
   ]
  },
  {
   "cell_type": "code",
   "execution_count": null,
   "id": "8db73517-bf15-415b-99ec-1659893456e1",
   "metadata": {
    "tags": []
   },
   "outputs": [],
   "source": [
    "fd5[\"XPP\"][\"aEIF.sedml\"]['report'].attrs['uri']"
   ]
  },
  {
   "cell_type": "code",
   "execution_count": null,
   "id": "511d10bd-d5bc-45b8-99c1-9675c3cdcbc2",
   "metadata": {},
   "outputs": [],
   "source": [
    "def mkDataFrames(project_id):\n",
    "    \"\"\"\n",
    "    Creates dataframes from the h5 file for the project.\n",
    "    \n",
    "    Args:\n",
    "        project_id\n",
    "        \n",
    "    Returns:\n",
    "        list-DataFrame\n",
    "            name = key\n",
    "            columns variable names\n",
    "    \"\"\"\n",
    "    # Check that the filedds all have the same structure\n",
    "    dfs = []\n",
    "    hd5_path = project.getH5FilePath()\n",
    "    fd5 = h5py.File(hd5_path, 'r')\n",
    "    # Find a sedml key\n",
    "    keys = [k for k in fd5.keys() if \".sedml\" in k]\n",
    "    for key in key:\n",
    "        datasets = fd5[key]\n",
    "        names = []\n",
    "        for dataset in datasets:\n",
    "            if \"report\" in dataset.name:\n",
    "                df = pd.DataFrame(dataset[:, :])\n",
    "                df = df.T\n",
    "        if selected_dataset is None:\n",
    "            print (\"***No report data set in %s\" % (project.project_id))\n",
    "            continue\n",
    "        if not \"sedmlDataSetIds\" in selected_dataset.attrs.keys():\n",
    "            print (\"***No sedmlDataSetIds for %s/%s\" % (project.project_id, selected_dataset.name))\n",
    "            num_bad += 1\n",
    "        else:\n",
    "            #print(dataset.shape, len(dataset.attrs[\"sedmlDataSetIds\"]))\n",
    "            #print(dataset[:,:])\n",
    "                \n",
    "#"
   ]
  },
  {
   "cell_type": "code",
   "execution_count": null,
   "id": "d7c2361a-833e-4317-ac8e-92a6d6e8c73a",
   "metadata": {
    "tags": []
   },
   "outputs": [],
   "source": [
    "df = pd.DataFrame"
   ]
  },
  {
   "cell_type": "code",
   "execution_count": null,
   "id": "daa4d4aa-5a79-4be3-9e96-100023f46b88",
   "metadata": {
    "tags": []
   },
   "outputs": [],
   "source": [
    "df.name = \"aaa\""
   ]
  },
  {
   "cell_type": "markdown",
   "id": "ce51b597-7fc9-4f8f-925f-7b4f575a55a7",
   "metadata": {},
   "source": [
    "# Plotly with dataframes"
   ]
  },
  {
   "cell_type": "code",
   "execution_count": null,
   "id": "9098a519-9dcc-4e61-b882-8984cfda4fc9",
   "metadata": {
    "tags": []
   },
   "outputs": [],
   "source": [
    "import plotly.graph_objs as go\n",
    "import pandas as pd\n",
    "\n",
    "# create a sample pandas dataframe\n",
    "df = pd.DataFrame({\n",
    "    'x': [1, 2, 3, 4, 5],\n",
    "    'y1': [10, 15, 13, 17, 12],\n",
    "    'y2': [5, 7, 9, 3, 8],\n",
    "    'y3': [2, 6, 4, 8, 3]\n",
    "})\n",
    "\n",
    "# create a list of traces for each column in the dataframe\n",
    "traces = []\n",
    "for col in df.columns:\n",
    "    if col != 'x':\n",
    "        traces.append(go.Scatter(x=df['x'], y=df[col], mode='lines', name=col))\n",
    "\n",
    "# create a layout\n",
    "layout = go.Layout(title='Plot with Legends', xaxis=dict(title='X Axis'), yaxis=dict(title='Y Axis'))\n",
    "\n",
    "# create a figure\n",
    "fig = go.Figure(data=traces, layout=layout)\n",
    "\n",
    "# show the figure\n",
    "fig.show()"
   ]
  },
  {
   "cell_type": "code",
   "execution_count": null,
   "id": "8b77bbeb-eb2c-4a6e-a2b1-f2495ff5bd7e",
   "metadata": {
    "tags": []
   },
   "outputs": [],
   "source": [
    "go.Figure()"
   ]
  }
 ],
 "metadata": {
  "kernelspec": {
   "display_name": "Python 3 (ipykernel)",
   "language": "python",
   "name": "python3"
  },
  "language_info": {
   "codemirror_mode": {
    "name": "ipython",
    "version": 3
   },
   "file_extension": ".py",
   "mimetype": "text/x-python",
   "name": "python",
   "nbconvert_exporter": "python",
   "pygments_lexer": "ipython3",
   "version": "3.9.6"
  }
 },
 "nbformat": 4,
 "nbformat_minor": 5
}
