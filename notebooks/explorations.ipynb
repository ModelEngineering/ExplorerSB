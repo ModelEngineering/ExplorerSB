{
 "cells": [
  {
   "cell_type": "markdown",
   "id": "5ea85e65-da35-49e9-903c-40ceff655f3a",
   "metadata": {},
   "source": [
    "# EXPLORATIONS"
   ]
  },
  {
   "cell_type": "code",
   "execution_count": 2,
   "id": "d8d8b6c7-41fa-4aed-9179-9669f6415faf",
   "metadata": {
    "tags": []
   },
   "outputs": [],
   "source": [
    "import requests\n",
    "import urllib3\n",
    "import h5py"
   ]
  },
  {
   "cell_type": "code",
   "execution_count": null,
   "id": "e7f65c76-1330-4c38-b24e-7570fa64a885",
   "metadata": {},
   "outputs": [],
   "source": []
  },
  {
   "cell_type": "markdown",
   "id": "a959e05d-58ea-465b-a7d6-b9f07d9a95b2",
   "metadata": {},
   "source": [
    "# Reading a file from a URL"
   ]
  },
  {
   "cell_type": "code",
   "execution_count": 7,
   "id": "44da758a-9979-4d01-8761-4252c8f7f4a5",
   "metadata": {
    "tags": []
   },
   "outputs": [
    {
     "data": {
      "text/plain": [
       "6273418"
      ]
     },
     "execution_count": 7,
     "metadata": {},
     "output_type": "execute_result"
    }
   ],
   "source": [
    "# This code retrieves a file\n",
    "url = 'https://storage.googleapis.com/files.biosimulations.org/simulations/621d90b9b50991044c7a1ea6/contents/iYS854.xml'\n",
    "r = requests.get(url, allow_redirects=True)\n",
    "open('iYS854.xml', 'wb').write(r.content)"
   ]
  },
  {
   "cell_type": "code",
   "execution_count": 9,
   "id": "ab90b776-5b55-44c9-89a2-44e049184051",
   "metadata": {
    "tags": []
   },
   "outputs": [
    {
     "data": {
      "text/plain": [
       "Url(scheme='https', auth=None, host='storage.googleapis.com', port=None, path='/files.biosimulations.org/simulations/621d90b9b50991044c7a1ea6/contents/iYS854.xml', query=None, fragment=None)"
      ]
     },
     "execution_count": 9,
     "metadata": {},
     "output_type": "execute_result"
    }
   ],
   "source": [
    "urllib3.util.parse_url(url)"
   ]
  },
  {
   "cell_type": "code",
   "execution_count": 13,
   "id": "d1ce160b-f3c3-4355-b899-61371e50a425",
   "metadata": {
    "tags": []
   },
   "outputs": [
    {
     "data": {
      "text/plain": [
       "'iYS854.xml'"
      ]
     },
     "execution_count": 13,
     "metadata": {},
     "output_type": "execute_result"
    }
   ],
   "source": [
    "def getUrlFile(file_url):\n",
    "    splits = file_url.split(\"/\")\n",
    "    return splits[-1]\n",
    "\n",
    "getUrlFile(url)"
   ]
  },
  {
   "cell_type": "markdown",
   "id": "d6e24714-0888-4c00-b434-53b17cfe63fb",
   "metadata": {},
   "source": [
    "# HDF5 files"
   ]
  },
  {
   "cell_type": "code",
   "execution_count": 7,
   "id": "26ca9bde-2940-4024-a8b1-6fced66c4d5e",
   "metadata": {
    "tags": []
   },
   "outputs": [
    {
     "name": "stdout",
     "output_type": "stream",
     "text": [
      "log.yml    reports.h5\n"
     ]
    }
   ],
   "source": [
    "!ls ../local/cache/61fea483f499ccf25faafc4d/outputs"
   ]
  },
  {
   "cell_type": "code",
   "execution_count": 8,
   "id": "fc33a07c-5f17-48eb-95ad-d9290e0cf12b",
   "metadata": {
    "tags": []
   },
   "outputs": [],
   "source": [
    "path = \"../local/cache/61fea483f499ccf25faafc4d/outputs/reports.h5\"\n",
    "fd5 = h5py.File(path, 'r')"
   ]
  },
  {
   "cell_type": "code",
   "execution_count": 9,
   "id": "c97c96d4-c200-45bf-86a0-c8ba075c556c",
   "metadata": {
    "tags": []
   },
   "outputs": [
    {
     "data": {
      "text/plain": [
       "['_MutableMapping__marker',\n",
       " '__abstractmethods__',\n",
       " '__bool__',\n",
       " '__class__',\n",
       " '__class_getitem__',\n",
       " '__contains__',\n",
       " '__delattr__',\n",
       " '__delitem__',\n",
       " '__dict__',\n",
       " '__dir__',\n",
       " '__doc__',\n",
       " '__enter__',\n",
       " '__eq__',\n",
       " '__exit__',\n",
       " '__format__',\n",
       " '__ge__',\n",
       " '__getattribute__',\n",
       " '__getitem__',\n",
       " '__getnewargs__',\n",
       " '__getstate__',\n",
       " '__gt__',\n",
       " '__hash__',\n",
       " '__init__',\n",
       " '__init_subclass__',\n",
       " '__iter__',\n",
       " '__le__',\n",
       " '__len__',\n",
       " '__lt__',\n",
       " '__module__',\n",
       " '__ne__',\n",
       " '__new__',\n",
       " '__nonzero__',\n",
       " '__reduce__',\n",
       " '__reduce_ex__',\n",
       " '__repr__',\n",
       " '__reversed__',\n",
       " '__setattr__',\n",
       " '__setitem__',\n",
       " '__sizeof__',\n",
       " '__slots__',\n",
       " '__str__',\n",
       " '__subclasshook__',\n",
       " '__weakref__',\n",
       " '_abc_impl',\n",
       " '_d',\n",
       " '_e',\n",
       " '_gcpl_crt_order',\n",
       " '_id',\n",
       " '_ipython_key_completions_',\n",
       " '_lapl',\n",
       " '_lcpl',\n",
       " '_libver',\n",
       " 'attrs',\n",
       " 'build_virtual_dataset',\n",
       " 'clear',\n",
       " 'close',\n",
       " 'copy',\n",
       " 'create_dataset',\n",
       " 'create_dataset_like',\n",
       " 'create_group',\n",
       " 'create_virtual_dataset',\n",
       " 'driver',\n",
       " 'file',\n",
       " 'filename',\n",
       " 'flush',\n",
       " 'get',\n",
       " 'id',\n",
       " 'items',\n",
       " 'keys',\n",
       " 'libver',\n",
       " 'meta_block_size',\n",
       " 'mode',\n",
       " 'move',\n",
       " 'name',\n",
       " 'parent',\n",
       " 'pop',\n",
       " 'popitem',\n",
       " 'ref',\n",
       " 'regionref',\n",
       " 'require_dataset',\n",
       " 'require_group',\n",
       " 'setdefault',\n",
       " 'swmr_mode',\n",
       " 'update',\n",
       " 'userblock_size',\n",
       " 'values',\n",
       " 'visit',\n",
       " 'visititems']"
      ]
     },
     "execution_count": 9,
     "metadata": {},
     "output_type": "execute_result"
    }
   ],
   "source": [
    "dir(fd5)"
   ]
  },
  {
   "cell_type": "code",
   "execution_count": 11,
   "id": "08878685-54f2-46d5-8177-441e0e9b7d51",
   "metadata": {
    "tags": []
   },
   "outputs": [
    {
     "data": {
      "text/plain": [
       "[('simulation.sedml', <HDF5 group \"/simulation.sedml\" (3 members)>)]"
      ]
     },
     "execution_count": 11,
     "metadata": {},
     "output_type": "execute_result"
    }
   ],
   "source": [
    "[t for t in fd5.items()]"
   ]
  },
  {
   "cell_type": "code",
   "execution_count": 12,
   "id": "933b1c96-7d99-487d-a484-ba2eb39b1007",
   "metadata": {
    "tags": []
   },
   "outputs": [
    {
     "data": {
      "text/plain": [
       "<KeysViewHDF5 ['simulation.sedml']>"
      ]
     },
     "execution_count": 12,
     "metadata": {},
     "output_type": "execute_result"
    }
   ],
   "source": [
    "fd5.keys()"
   ]
  },
  {
   "cell_type": "code",
   "execution_count": 14,
   "id": "dd34650b-9477-4dfc-852d-3839ca234987",
   "metadata": {
    "tags": []
   },
   "outputs": [
    {
     "data": {
      "text/plain": [
       "<KeysViewHDF5 ['report_del_Cln2', 'report_del_Cln3', 'report_wt']>"
      ]
     },
     "execution_count": 14,
     "metadata": {},
     "output_type": "execute_result"
    }
   ],
   "source": [
    "fd5[\"simulation.sedml\"].keys()"
   ]
  },
  {
   "cell_type": "code",
   "execution_count": 23,
   "id": "ec44780a-378a-497d-a77d-cc5b849c1c91",
   "metadata": {
    "tags": []
   },
   "outputs": [
    {
     "data": {
      "text/plain": [
       "(19, 101)"
      ]
     },
     "execution_count": 23,
     "metadata": {},
     "output_type": "execute_result"
    }
   ],
   "source": [
    "dataset = fd5[\"simulation.sedml\"][\"report_wt\"]\n",
    "dataset.shape"
   ]
  },
  {
   "cell_type": "code",
   "execution_count": 24,
   "id": "9ceea0be-2f5b-4556-b135-bac94715bc66",
   "metadata": {
    "tags": []
   },
   "outputs": [
    {
     "data": {
      "text/plain": [
       "array([[  0.,   1.,   2., ...,  98.,  99., 100.],\n",
       "       [  1.,   0.,   1., ...,   1.,   1.,   1.],\n",
       "       [  0.,   0.,   0., ...,   0.,   0.,   0.],\n",
       "       ...,\n",
       "       [  1.,   0.,   0., ...,   1.,   1.,   1.],\n",
       "       [  0.,   0.,   0., ...,   1.,   1.,   1.],\n",
       "       [  1.,   0.,   0., ...,   0.,   0.,   1.]])"
      ]
     },
     "execution_count": 24,
     "metadata": {},
     "output_type": "execute_result"
    }
   ],
   "source": [
    "dataset[:,:]"
   ]
  },
  {
   "cell_type": "code",
   "execution_count": 27,
   "id": "b1d3bd6a-9190-47c1-a60f-05528c141288",
   "metadata": {
    "tags": []
   },
   "outputs": [
    {
     "data": {
      "text/plain": [
       "<KeysViewHDF5 ['_type', 'sedmlDataSetDataTypes', 'sedmlDataSetIds', 'sedmlDataSetLabels', 'sedmlDataSetNames', 'sedmlDataSetShapes', 'sedmlId', 'sedmlName', 'uri']>"
      ]
     },
     "execution_count": 27,
     "metadata": {},
     "output_type": "execute_result"
    }
   ],
   "source": [
    "dataset.attrs.keys()"
   ]
  },
  {
   "cell_type": "code",
   "execution_count": 31,
   "id": "3ff20b4f-7550-4ae6-a638-47e5cd8dd541",
   "metadata": {
    "tags": []
   },
   "outputs": [
    {
     "data": {
      "text/plain": [
       "array(['wt_data_set_time', 'wt_data_set_Cln3', 'wt_data_set_SMBF',\n",
       "       'wt_data_set_Cln2', 'wt_data_set_Clb5', 'wt_data_set_Yhp1',\n",
       "       'wt_data_set_Clb2', 'wt_data_set_SFF', 'wt_data_set_Cdc20',\n",
       "       'wt_data_set_FEAR', 'wt_data_set_MEN', 'wt_data_set_Cdc14',\n",
       "       'wt_data_set_Swi5', 'wt_data_set_CKI', 'wt_data_set_Cdh1',\n",
       "       'wt_data_set_S', 'wt_data_set_B', 'wt_data_set_M',\n",
       "       'wt_data_set_CD'], dtype=object)"
      ]
     },
     "execution_count": 31,
     "metadata": {},
     "output_type": "execute_result"
    }
   ],
   "source": [
    "dataset.attrs['sedmlDataSetIds']"
   ]
  }
 ],
 "metadata": {
  "kernelspec": {
   "display_name": "Python 3 (ipykernel)",
   "language": "python",
   "name": "python3"
  },
  "language_info": {
   "codemirror_mode": {
    "name": "ipython",
    "version": 3
   },
   "file_extension": ".py",
   "mimetype": "text/x-python",
   "name": "python",
   "nbconvert_exporter": "python",
   "pygments_lexer": "ipython3",
   "version": "3.9.6"
  }
 },
 "nbformat": 4,
 "nbformat_minor": 5
}
