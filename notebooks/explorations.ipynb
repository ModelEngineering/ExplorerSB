{
 "cells": [
  {
   "cell_type": "markdown",
   "id": "5ea85e65-da35-49e9-903c-40ceff655f3a",
   "metadata": {},
   "source": [
    "# EXPLORATIONS"
   ]
  },
  {
   "cell_type": "code",
   "execution_count": 6,
   "id": "d8d8b6c7-41fa-4aed-9179-9669f6415faf",
   "metadata": {
    "tags": []
   },
   "outputs": [],
   "source": [
    "import requests\n",
    "import urllib3"
   ]
  },
  {
   "cell_type": "markdown",
   "id": "a959e05d-58ea-465b-a7d6-b9f07d9a95b2",
   "metadata": {},
   "source": [
    "# Reading a file from a URL"
   ]
  },
  {
   "cell_type": "code",
   "execution_count": 7,
   "id": "44da758a-9979-4d01-8761-4252c8f7f4a5",
   "metadata": {
    "tags": []
   },
   "outputs": [
    {
     "data": {
      "text/plain": [
       "6273418"
      ]
     },
     "execution_count": 7,
     "metadata": {},
     "output_type": "execute_result"
    }
   ],
   "source": [
    "# This code retrieves a file\n",
    "url = 'https://storage.googleapis.com/files.biosimulations.org/simulations/621d90b9b50991044c7a1ea6/contents/iYS854.xml'\n",
    "r = requests.get(url, allow_redirects=True)\n",
    "open('iYS854.xml', 'wb').write(r.content)"
   ]
  },
  {
   "cell_type": "code",
   "execution_count": 9,
   "id": "ab90b776-5b55-44c9-89a2-44e049184051",
   "metadata": {
    "tags": []
   },
   "outputs": [
    {
     "data": {
      "text/plain": [
       "Url(scheme='https', auth=None, host='storage.googleapis.com', port=None, path='/files.biosimulations.org/simulations/621d90b9b50991044c7a1ea6/contents/iYS854.xml', query=None, fragment=None)"
      ]
     },
     "execution_count": 9,
     "metadata": {},
     "output_type": "execute_result"
    }
   ],
   "source": [
    "urllib3.util.parse_url(url)"
   ]
  },
  {
   "cell_type": "code",
   "execution_count": 13,
   "id": "d1ce160b-f3c3-4355-b899-61371e50a425",
   "metadata": {
    "tags": []
   },
   "outputs": [
    {
     "data": {
      "text/plain": [
       "'iYS854.xml'"
      ]
     },
     "execution_count": 13,
     "metadata": {},
     "output_type": "execute_result"
    }
   ],
   "source": [
    "def getUrlFile(file_url):\n",
    "    splits = file_url.split(\"/\")\n",
    "    return splits[-1]\n",
    "\n",
    "getUrlFile(url)"
   ]
  }
 ],
 "metadata": {
  "kernelspec": {
   "display_name": "Python 3 (ipykernel)",
   "language": "python",
   "name": "python3"
  },
  "language_info": {
   "codemirror_mode": {
    "name": "ipython",
    "version": 3
   },
   "file_extension": ".py",
   "mimetype": "text/x-python",
   "name": "python",
   "nbconvert_exporter": "python",
   "pygments_lexer": "ipython3",
   "version": "3.9.6"
  }
 },
 "nbformat": 4,
 "nbformat_minor": 5
}
